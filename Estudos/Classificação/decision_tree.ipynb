{
  "nbformat": 4,
  "nbformat_minor": 0,
  "metadata": {
    "colab": {
      "name": "decision_tree.ipynb",
      "provenance": [],
      "authorship_tag": "ABX9TyPQts9wl5AWx1MDQFVG2Ykg",
      "include_colab_link": true
    },
    "kernelspec": {
      "name": "python3",
      "display_name": "Python 3"
    },
    "language_info": {
      "name": "python"
    }
  },
  "cells": [
    {
      "cell_type": "markdown",
      "metadata": {
        "id": "view-in-github",
        "colab_type": "text"
      },
      "source": [
        "<a href=\"https://colab.research.google.com/github/medeirosgian/Data-Science/blob/main/Estudos/Classifica%C3%A7%C3%A3o/decision_tree.ipynb\" target=\"_parent\"><img src=\"https://colab.research.google.com/assets/colab-badge.svg\" alt=\"Open In Colab\"/></a>"
      ]
    },
    {
      "cell_type": "code",
      "metadata": {
        "id": "FpRc72kP7Q3d"
      },
      "source": [
        "# Import bibliotecas\n",
        "import pandas as pd\n",
        "import matplotlib.pyplot as plt\n",
        "import seaborn as sns"
      ],
      "execution_count": null,
      "outputs": []
    },
    {
      "cell_type": "code",
      "metadata": {
        "colab": {
          "base_uri": "https://localhost:8080/",
          "height": 229
        },
        "id": "N_FRn95073NY",
        "outputId": "ed22714d-8a25-4f8a-a914-8f62db3506e4"
      },
      "source": [
        "# Set style (Seaborn)\n",
        "sns.set_style()\n",
        "\n",
        "# Import dos dados\n",
        "df = pd.read_csv('https://archive.ics.uci.edu/ml/machine-learning-databases/heart-disease/processed.hungarian.data') #Não usar dados de Cleveland\n",
        "columns = ['age', 'sex', 'cp', 'trestbps',\t'chol',\t'fbs',\t'restecg',\t'thalach',\t'exang',\t'oldpeak',\t'slope',\t'ca',\t'thal',\t'num']\n",
        "df.columns = columns\n",
        "\n",
        "# Substituir valores '?' em todo o DataFrame\n",
        "for col in columns:\n",
        "  df.loc[df[col]=='?', col] = 0.0\n",
        "\n",
        "print(\"Tamanho de df: {}\\n\".format(df.shape))\n",
        "df.tail()"
      ],
      "execution_count": null,
      "outputs": [
        {
          "output_type": "stream",
          "text": [
            "Tamanho de df: (293, 14)\n",
            "\n"
          ],
          "name": "stdout"
        },
        {
          "output_type": "execute_result",
          "data": {
            "text/html": [
              "<div>\n",
              "<style scoped>\n",
              "    .dataframe tbody tr th:only-of-type {\n",
              "        vertical-align: middle;\n",
              "    }\n",
              "\n",
              "    .dataframe tbody tr th {\n",
              "        vertical-align: top;\n",
              "    }\n",
              "\n",
              "    .dataframe thead th {\n",
              "        text-align: right;\n",
              "    }\n",
              "</style>\n",
              "<table border=\"1\" class=\"dataframe\">\n",
              "  <thead>\n",
              "    <tr style=\"text-align: right;\">\n",
              "      <th></th>\n",
              "      <th>age</th>\n",
              "      <th>sex</th>\n",
              "      <th>cp</th>\n",
              "      <th>trestbps</th>\n",
              "      <th>chol</th>\n",
              "      <th>fbs</th>\n",
              "      <th>restecg</th>\n",
              "      <th>thalach</th>\n",
              "      <th>exang</th>\n",
              "      <th>oldpeak</th>\n",
              "      <th>slope</th>\n",
              "      <th>ca</th>\n",
              "      <th>thal</th>\n",
              "      <th>num</th>\n",
              "    </tr>\n",
              "  </thead>\n",
              "  <tbody>\n",
              "    <tr>\n",
              "      <th>288</th>\n",
              "      <td>52</td>\n",
              "      <td>1</td>\n",
              "      <td>4</td>\n",
              "      <td>160</td>\n",
              "      <td>331</td>\n",
              "      <td>0</td>\n",
              "      <td>0</td>\n",
              "      <td>94</td>\n",
              "      <td>1</td>\n",
              "      <td>2.5</td>\n",
              "      <td>0</td>\n",
              "      <td>0</td>\n",
              "      <td>0</td>\n",
              "      <td>1</td>\n",
              "    </tr>\n",
              "    <tr>\n",
              "      <th>289</th>\n",
              "      <td>54</td>\n",
              "      <td>0</td>\n",
              "      <td>3</td>\n",
              "      <td>130</td>\n",
              "      <td>294</td>\n",
              "      <td>0</td>\n",
              "      <td>1</td>\n",
              "      <td>100</td>\n",
              "      <td>1</td>\n",
              "      <td>0.0</td>\n",
              "      <td>2</td>\n",
              "      <td>0</td>\n",
              "      <td>0</td>\n",
              "      <td>1</td>\n",
              "    </tr>\n",
              "    <tr>\n",
              "      <th>290</th>\n",
              "      <td>56</td>\n",
              "      <td>1</td>\n",
              "      <td>4</td>\n",
              "      <td>155</td>\n",
              "      <td>342</td>\n",
              "      <td>1</td>\n",
              "      <td>0</td>\n",
              "      <td>150</td>\n",
              "      <td>1</td>\n",
              "      <td>3.0</td>\n",
              "      <td>2</td>\n",
              "      <td>0</td>\n",
              "      <td>0</td>\n",
              "      <td>1</td>\n",
              "    </tr>\n",
              "    <tr>\n",
              "      <th>291</th>\n",
              "      <td>58</td>\n",
              "      <td>0</td>\n",
              "      <td>2</td>\n",
              "      <td>180</td>\n",
              "      <td>393</td>\n",
              "      <td>0</td>\n",
              "      <td>0</td>\n",
              "      <td>110</td>\n",
              "      <td>1</td>\n",
              "      <td>1.0</td>\n",
              "      <td>2</td>\n",
              "      <td>0</td>\n",
              "      <td>7</td>\n",
              "      <td>1</td>\n",
              "    </tr>\n",
              "    <tr>\n",
              "      <th>292</th>\n",
              "      <td>65</td>\n",
              "      <td>1</td>\n",
              "      <td>4</td>\n",
              "      <td>130</td>\n",
              "      <td>275</td>\n",
              "      <td>0</td>\n",
              "      <td>1</td>\n",
              "      <td>115</td>\n",
              "      <td>1</td>\n",
              "      <td>1.0</td>\n",
              "      <td>2</td>\n",
              "      <td>0</td>\n",
              "      <td>0</td>\n",
              "      <td>1</td>\n",
              "    </tr>\n",
              "  </tbody>\n",
              "</table>\n",
              "</div>"
            ],
            "text/plain": [
              "     age  sex  cp trestbps chol fbs  ... exang oldpeak slope  ca thal num\n",
              "288   52    1   4      160  331   0  ...     1     2.5     0   0    0   1\n",
              "289   54    0   3      130  294   0  ...     1     0.0     2   0    0   1\n",
              "290   56    1   4      155  342   1  ...     1     3.0     2   0    0   1\n",
              "291   58    0   2      180  393   0  ...     1     1.0     2   0    7   1\n",
              "292   65    1   4      130  275   0  ...     1     1.0     2   0    0   1\n",
              "\n",
              "[5 rows x 14 columns]"
            ]
          },
          "metadata": {
            "tags": []
          },
          "execution_count": 119
        }
      ]
    },
    {
      "cell_type": "code",
      "metadata": {
        "colab": {
          "base_uri": "https://localhost:8080/"
        },
        "id": "-N-90MAcDXNH",
        "outputId": "9802616c-4907-4983-f5e4-e084eb82da77"
      },
      "source": [
        "# Contar valores de num\n",
        "print(df['num'].value_counts())"
      ],
      "execution_count": null,
      "outputs": [
        {
          "output_type": "stream",
          "text": [
            "0    187\n",
            "1    106\n",
            "Name: num, dtype: int64\n"
          ],
          "name": "stdout"
        }
      ]
    },
    {
      "cell_type": "code",
      "metadata": {
        "id": "bKUuWQ9k75M6"
      },
      "source": [
        "# Import SciKitLearn\n",
        "from sklearn.model_selection import train_test_split\n",
        "from sklearn.metrics import confusion_matrix\n",
        "from sklearn.metrics import classification_report"
      ],
      "execution_count": null,
      "outputs": []
    },
    {
      "cell_type": "code",
      "metadata": {
        "id": "kRPJKdsR8FS3"
      },
      "source": [
        "# Import e criação do modelo\n",
        "from sklearn.tree import DecisionTreeClassifier\n",
        "\n",
        "model = DecisionTreeClassifier(max_depth=4, criterion='entropy')\n",
        "\n",
        "# Separar os dados\n",
        "x = df.drop('num', axis=1)\n",
        "y = df['num']\n",
        "\n",
        "# Dividir dados de treino e teste\n",
        "X_train, X_test, y_train, y_test = train_test_split(x, y)\n",
        "\n",
        "# Realizar fit do modelo\n",
        "model.fit(X_train, y_train);\n",
        "\n",
        "# Realizar predict\n",
        "y_pred = model.predict(X_test)"
      ],
      "execution_count": null,
      "outputs": []
    },
    {
      "cell_type": "code",
      "metadata": {
        "colab": {
          "base_uri": "https://localhost:8080/"
        },
        "id": "NfCFwkkp8Nx1",
        "outputId": "760048df-915a-4ef1-fa88-8ed90a9d3baa"
      },
      "source": [
        "# Classification report\n",
        "print(classification_report(y_test, y_pred))"
      ],
      "execution_count": null,
      "outputs": [
        {
          "output_type": "stream",
          "text": [
            "              precision    recall  f1-score   support\n",
            "\n",
            "           0       0.85      0.83      0.84        48\n",
            "           1       0.70      0.73      0.72        26\n",
            "\n",
            "    accuracy                           0.80        74\n",
            "   macro avg       0.78      0.78      0.78        74\n",
            "weighted avg       0.80      0.80      0.80        74\n",
            "\n"
          ],
          "name": "stdout"
        }
      ]
    },
    {
      "cell_type": "code",
      "metadata": {
        "colab": {
          "base_uri": "https://localhost:8080/",
          "height": 295
        },
        "id": "WXTC60zQ9HkX",
        "outputId": "822b2e74-0bf4-4cec-ac90-9d9baaa82340"
      },
      "source": [
        "# Plotar a matriz de confusão gráfica\n",
        "fig, ax = plt.subplots();\n",
        "sns.heatmap(confusion_matrix(y_test, y_pred), annot=True, ax=ax);\n",
        "\n",
        "# Configurando gráfico\n",
        "ax.set_title('Matriz de Confusão');\n",
        "ax.set_ylabel('Verdadeiro');\n",
        "ax.set_xlabel('Previsto');"
      ],
      "execution_count": null,
      "outputs": [
        {
          "output_type": "display_data",
          "data": {
            "image/png": "[encoded data removed]",
            "text/plain": [
              "<Figure size 432x288 with 2 Axes>"
            ]
          },
          "metadata": {
            "tags": [],
            "needs_background": "light"
          }
        }
      ]
    },
    {
      "cell_type": "code",
      "metadata": {
        "colab": {
          "base_uri": "https://localhost:8080/"
        },
        "id": "T00XIszM9TDE",
        "outputId": "3c97d1c1-18cf-4c63-a69a-e9bf055e1f62"
      },
      "source": [
        "# Novo modelo com Under-Sapling\n",
        "from imblearn.under_sampling import RandomUnderSampler\n",
        "\n",
        "rus = RandomUnderSampler();\n",
        "X_res, y_res = rus.fit_sample(X_train, y_train);"
      ],
      "execution_count": null,
      "outputs": [
        {
          "output_type": "stream",
          "text": [
            "/usr/local/lib/python3.7/dist-packages/sklearn/utils/deprecation.py:87: FutureWarning: Function safe_indexing is deprecated; safe_indexing is deprecated in version 0.22 and will be removed in version 0.24.\n",
            "  warnings.warn(msg, category=FutureWarning)\n"
          ],
          "name": "stderr"
        }
      ]
    },
    {
      "cell_type": "code",
      "metadata": {
        "id": "2cOGlcdXE9HB"
      },
      "source": [
        "# Criação do modelo novo\n",
        "model_new = DecisionTreeClassifier(max_depth=1, criterion='entropy')\n",
        "\n",
        "# Realizar fit do modelo\n",
        "model_new.fit(X_res, y_res);\n",
        "\n",
        "# Realizar predict\n",
        "y_pred_new = model_new.predict(X_test)"
      ],
      "execution_count": null,
      "outputs": []
    },
    {
      "cell_type": "code",
      "metadata": {
        "colab": {
          "base_uri": "https://localhost:8080/"
        },
        "id": "swukKg9SGS_s",
        "outputId": "61bb3b94-050f-4d96-e625-46506d10f9de"
      },
      "source": [
        "# Classification report\n",
        "print(classification_report(y_test, y_pred_new))"
      ],
      "execution_count": null,
      "outputs": [
        {
          "output_type": "stream",
          "text": [
            "              precision    recall  f1-score   support\n",
            "\n",
            "           0       0.88      0.77      0.82        48\n",
            "           1       0.66      0.81      0.72        26\n",
            "\n",
            "    accuracy                           0.78        74\n",
            "   macro avg       0.77      0.79      0.77        74\n",
            "weighted avg       0.80      0.78      0.79        74\n",
            "\n"
          ],
          "name": "stdout"
        }
      ]
    },
    {
      "cell_type": "code",
      "metadata": {
        "colab": {
          "base_uri": "https://localhost:8080/",
          "height": 295
        },
        "id": "wlw-zPNAGe3D",
        "outputId": "5376170e-dad1-4042-af0b-08694ae84778"
      },
      "source": [
        "# Plotar a matriz de confusão gráfica\n",
        "fig, ax = plt.subplots();\n",
        "sns.heatmap(confusion_matrix(y_test, y_pred_new), annot=True, ax=ax);\n",
        "\n",
        "# Configurando gráfico\n",
        "ax.set_title('Matriz de Confusão');\n",
        "ax.set_ylabel('Verdadeiro');\n",
        "ax.set_xlabel('Previsto');"
      ],
      "execution_count": null,
      "outputs": [
        {
          "output_type": "display_data",
          "data": {
            "image/png": "[encoded data removed]",
            "text/plain": [
              "<Figure size 432x288 with 2 Axes>"
            ]
          },
          "metadata": {
            "tags": [],
            "needs_background": "light"
          }
        }
      ]
    },
    {
      "cell_type": "code",
      "metadata": {
        "id": "m20Wo8toGmjy"
      },
      "source": [
        ""
      ],
      "execution_count": null,
      "outputs": []
    }
  ]
}