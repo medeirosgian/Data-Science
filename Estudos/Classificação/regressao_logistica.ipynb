{
  "nbformat": 4,
  "nbformat_minor": 0,
  "metadata": {
    "colab": {
      "name": "regressao_logistica.ipynb",
      "provenance": [],
      "authorship_tag": "ABX9TyPFhliHNgQ6W4fxwZ9Im0xj",
      "include_colab_link": true
    },
    "kernelspec": {
      "name": "python3",
      "display_name": "Python 3"
    },
    "language_info": {
      "name": "python"
    }
  },
  "cells": [
    {
      "cell_type": "markdown",
      "metadata": {
        "id": "view-in-github",
        "colab_type": "text"
      },
      "source": [
        "<a href=\"https://colab.research.google.com/github/medeirosgian/Data-Science/blob/main/Estudos/Classifica%C3%A7%C3%A3o/regressao_logistica.ipynb\" target=\"_parent\"><img src=\"https://colab.research.google.com/assets/colab-badge.svg\" alt=\"Open In Colab\"/></a>"
      ]
    },
    {
      "cell_type": "code",
      "metadata": {
        "id": "RxFjIcIIz9R7"
      },
      "source": [
        "# Import bibliotecas\n",
        "import pandas as pd\n",
        "import matplotlib.pyplot as plt\n",
        "import seaborn as sns"
      ],
      "execution_count": null,
      "outputs": []
    },
    {
      "cell_type": "code",
      "metadata": {
        "colab": {
          "base_uri": "https://localhost:8080/",
          "height": 229
        },
        "id": "bRTWJveNz_Xn",
        "outputId": "becc3b03-3cae-447c-fd53-fbd42fda5567"
      },
      "source": [
        "# Set style (Seaborn)\n",
        "sns.set_style()\n",
        "\n",
        "# Import dos dados\n",
        "df = pd.read_csv('https://archive.ics.uci.edu/ml/machine-learning-databases/heart-disease/processed.hungarian.data') #Não usar dados de Cleveland\n",
        "columns = ['age', 'sex', 'cp', 'trestbps',\t'chol',\t'fbs',\t'restecg',\t'thalach',\t'exang',\t'oldpeak',\t'slope',\t'ca',\t'thal',\t'num']\n",
        "df.columns = columns\n",
        "\n",
        "# Substituir valores '?' em todo o DataFrame\n",
        "for col in columns:\n",
        "  df.loc[df[col]=='?', col] = 0.0\n",
        "\n",
        "print(\"Tamanho de df: {}\\n\".format(df.shape))\n",
        "df.tail()"
      ],
      "execution_count": null,
      "outputs": [
        {
          "output_type": "stream",
          "text": [
            "Tamanho de df: (293, 14)\n",
            "\n"
          ],
          "name": "stdout"
        },
        {
          "output_type": "execute_result",
          "data": {
            "text/html": [
              "<div>\n",
              "<style scoped>\n",
              "    .dataframe tbody tr th:only-of-type {\n",
              "        vertical-align: middle;\n",
              "    }\n",
              "\n",
              "    .dataframe tbody tr th {\n",
              "        vertical-align: top;\n",
              "    }\n",
              "\n",
              "    .dataframe thead th {\n",
              "        text-align: right;\n",
              "    }\n",
              "</style>\n",
              "<table border=\"1\" class=\"dataframe\">\n",
              "  <thead>\n",
              "    <tr style=\"text-align: right;\">\n",
              "      <th></th>\n",
              "      <th>age</th>\n",
              "      <th>sex</th>\n",
              "      <th>cp</th>\n",
              "      <th>trestbps</th>\n",
              "      <th>chol</th>\n",
              "      <th>fbs</th>\n",
              "      <th>restecg</th>\n",
              "      <th>thalach</th>\n",
              "      <th>exang</th>\n",
              "      <th>oldpeak</th>\n",
              "      <th>slope</th>\n",
              "      <th>ca</th>\n",
              "      <th>thal</th>\n",
              "      <th>num</th>\n",
              "    </tr>\n",
              "  </thead>\n",
              "  <tbody>\n",
              "    <tr>\n",
              "      <th>288</th>\n",
              "      <td>52</td>\n",
              "      <td>1</td>\n",
              "      <td>4</td>\n",
              "      <td>160</td>\n",
              "      <td>331</td>\n",
              "      <td>0</td>\n",
              "      <td>0</td>\n",
              "      <td>94</td>\n",
              "      <td>1</td>\n",
              "      <td>2.5</td>\n",
              "      <td>0</td>\n",
              "      <td>0</td>\n",
              "      <td>0</td>\n",
              "      <td>1</td>\n",
              "    </tr>\n",
              "    <tr>\n",
              "      <th>289</th>\n",
              "      <td>54</td>\n",
              "      <td>0</td>\n",
              "      <td>3</td>\n",
              "      <td>130</td>\n",
              "      <td>294</td>\n",
              "      <td>0</td>\n",
              "      <td>1</td>\n",
              "      <td>100</td>\n",
              "      <td>1</td>\n",
              "      <td>0.0</td>\n",
              "      <td>2</td>\n",
              "      <td>0</td>\n",
              "      <td>0</td>\n",
              "      <td>1</td>\n",
              "    </tr>\n",
              "    <tr>\n",
              "      <th>290</th>\n",
              "      <td>56</td>\n",
              "      <td>1</td>\n",
              "      <td>4</td>\n",
              "      <td>155</td>\n",
              "      <td>342</td>\n",
              "      <td>1</td>\n",
              "      <td>0</td>\n",
              "      <td>150</td>\n",
              "      <td>1</td>\n",
              "      <td>3.0</td>\n",
              "      <td>2</td>\n",
              "      <td>0</td>\n",
              "      <td>0</td>\n",
              "      <td>1</td>\n",
              "    </tr>\n",
              "    <tr>\n",
              "      <th>291</th>\n",
              "      <td>58</td>\n",
              "      <td>0</td>\n",
              "      <td>2</td>\n",
              "      <td>180</td>\n",
              "      <td>393</td>\n",
              "      <td>0</td>\n",
              "      <td>0</td>\n",
              "      <td>110</td>\n",
              "      <td>1</td>\n",
              "      <td>1.0</td>\n",
              "      <td>2</td>\n",
              "      <td>0</td>\n",
              "      <td>7</td>\n",
              "      <td>1</td>\n",
              "    </tr>\n",
              "    <tr>\n",
              "      <th>292</th>\n",
              "      <td>65</td>\n",
              "      <td>1</td>\n",
              "      <td>4</td>\n",
              "      <td>130</td>\n",
              "      <td>275</td>\n",
              "      <td>0</td>\n",
              "      <td>1</td>\n",
              "      <td>115</td>\n",
              "      <td>1</td>\n",
              "      <td>1.0</td>\n",
              "      <td>2</td>\n",
              "      <td>0</td>\n",
              "      <td>0</td>\n",
              "      <td>1</td>\n",
              "    </tr>\n",
              "  </tbody>\n",
              "</table>\n",
              "</div>"
            ],
            "text/plain": [
              "     age  sex  cp trestbps chol fbs  ... exang oldpeak slope  ca thal num\n",
              "288   52    1   4      160  331   0  ...     1     2.5     0   0    0   1\n",
              "289   54    0   3      130  294   0  ...     1     0.0     2   0    0   1\n",
              "290   56    1   4      155  342   1  ...     1     3.0     2   0    0   1\n",
              "291   58    0   2      180  393   0  ...     1     1.0     2   0    7   1\n",
              "292   65    1   4      130  275   0  ...     1     1.0     2   0    0   1\n",
              "\n",
              "[5 rows x 14 columns]"
            ]
          },
          "metadata": {
            "tags": []
          },
          "execution_count": 17
        }
      ]
    },
    {
      "cell_type": "code",
      "metadata": {
        "id": "p6KMGjyT0nZH"
      },
      "source": [
        "# Import SciKitLearn\n",
        "from sklearn.model_selection import train_test_split\n",
        "from sklearn.metrics import confusion_matrix\n",
        "from sklearn.metrics import classification_report\n",
        "from sklearn.preprocessing import StandardScaler"
      ],
      "execution_count": null,
      "outputs": []
    },
    {
      "cell_type": "code",
      "metadata": {
        "id": "UTayHkfA3Sp4"
      },
      "source": [
        "# Import modelo de regressão logística\n",
        "from sklearn.linear_model import LogisticRegression\n",
        "\n",
        "# Instanciar modelo\n",
        "model = LogisticRegression()\n",
        "\n",
        "# Separar dados (dependente/independente)\n",
        "x = df.drop('num', axis=1)\n",
        "y = df['num']\n",
        "\n",
        "# Dividir dados de treino e teste\n",
        "X_train, X_test, y_train, y_test = train_test_split(x, y)\n",
        "\n",
        "# Padronização dos dados de treino\n",
        "scaler = StandardScaler().fit(X_train)\n",
        "X_train = scaler.transform(X_train)\n",
        "\n",
        "# Fit do modelo\n",
        "model.fit(X_train, y_train)\n",
        "\n",
        "# Padronizar dados teste\n",
        "X_test = scaler.transform(X_test)\n",
        "\n",
        "# Predizer casos\n",
        "y_pred = model.predict(X_test)"
      ],
      "execution_count": null,
      "outputs": []
    },
    {
      "cell_type": "code",
      "metadata": {
        "colab": {
          "base_uri": "https://localhost:8080/"
        },
        "id": "FDyuJYsr3YCh",
        "outputId": "307f5043-bc71-4be6-a233-3e4471ad0360"
      },
      "source": [
        " # Relatório com matriz de confusão\n",
        "print(classification_report(y_test, y_pred))"
      ],
      "execution_count": null,
      "outputs": [
        {
          "output_type": "stream",
          "text": [
            "              precision    recall  f1-score   support\n",
            "\n",
            "           0       0.78      0.98      0.87        44\n",
            "           1       0.95      0.60      0.73        30\n",
            "\n",
            "    accuracy                           0.82        74\n",
            "   macro avg       0.86      0.79      0.80        74\n",
            "weighted avg       0.85      0.82      0.81        74\n",
            "\n"
          ],
          "name": "stdout"
        }
      ]
    },
    {
      "cell_type": "code",
      "metadata": {
        "id": "VxZ2cXs47-bS",
        "colab": {
          "base_uri": "https://localhost:8080/",
          "height": 295
        },
        "outputId": "56d9b2d4-f927-4bca-c250-81069366f520"
      },
      "source": [
        "# Plotar a matriz de confusão gráfica\n",
        "fig, ax = plt.subplots();\n",
        "sns.heatmap(confusion_matrix(y_test, y_pred), annot=True, ax=ax);\n",
        "\n",
        "# Configurando gráfico\n",
        "ax.set_title('Matriz de Confusão');\n",
        "ax.set_ylabel('Verdadeiro');\n",
        "ax.set_xlabel('Previsto');"
      ],
      "execution_count": null,
      "outputs": [
        {
          "output_type": "display_data",
          "data": {
            "image/png": "[encoded data removed]",
            "text/plain": [
              "<Figure size 432x288 with 2 Axes>"
            ]
          },
          "metadata": {
            "tags": [],
            "needs_background": "light"
          }
        }
      ]
    }
  ]
}