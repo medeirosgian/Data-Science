{
  "nbformat": 4,
  "nbformat_minor": 0,
  "metadata": {
    "colab": {
      "name": "Análise de Dados AirBnb Rio de Janeiro - InsideAirBnb.ipynb",
      "provenance": [],
      "toc_visible": true,
      "authorship_tag": "ABX9TyOBPExhLIt5bk7QyyDdDbkP",
      "include_colab_link": true
    },
    "kernelspec": {
      "name": "python3",
      "display_name": "Python 3"
    }
  },
  "cells": [
    {
      "cell_type": "markdown",
      "metadata": {
        "id": "view-in-github",
        "colab_type": "text"
      },
      "source": [
        "<a href=\"https://colab.research.google.com/github/medeirosgian/Data-Science/blob/main/An%C3%A1lise_de_Dados_AirBnb_Rio_de_Janeiro_InsideAirBnb.ipynb\" target=\"_parent\"><img src=\"https://colab.research.google.com/assets/colab-badge.svg\" alt=\"Open In Colab\"/></a>"
      ]
    },
    {
      "cell_type": "markdown",
      "metadata": {
        "id": "NOzzKuR8oC1B"
      },
      "source": [
        "O [AirBnb](https://www.airbnb.com.br/) (Air, Bed and Breakfest), é a principal solução atualmente para quem pretende se hospedar, seja em uma casa, apartamento, e para os mais exigentes até castelos.\r\n",
        "\r\n",
        "Atualmente, a empresa é a maior do setor hoteleiro, o mais incrível é que na prática ela não é detentora de nenhum dos imóveis.\r\n",
        "\r\n",
        "Em 2018 (10 anos após sua fundação), a startup já havia hospedado cerca de 300 milhões de pessoas em todo o mundo, números que nenhuma rede hoteleira poderia alcançar.\r\n",
        "\r\n",
        "Como parte da sua política, o AirBnb divulga parte dos dados gerados com a sua operação por meio do portal [Inside AirBnb](http://insideairbnb.com/). Possibilitando que qualquer pessoa os obtenha para o desenvolvimento de projetos, análises e soluções por meio da Ciência de Dados.\r\n",
        "\r\n",
        "<img alt=\"Analisando Airbnb\" width=\"30%\" src=\"https://www.area360.com.au/wp-content/uploads/2017/09/airbnb-logo.jpg\">\r\n",
        "\r\n",
        "**Neste projeto, iremos analisar os dados referentes a cidade do Rio de Janeiro, buscando insights que podem ser extraídos de dados brutos**"
      ]
    },
    {
      "cell_type": "markdown",
      "metadata": {
        "id": "vVcQFQRMYKdE"
      },
      "source": [
        "## Obtenção dos Dados\r\n",
        "\r\n",
        "Todos os dados utilizados durante a análise foram retirados do portal [Inside AirBnb](http://insideairbnb.com/), sendo estes disponibilizados publicamente pela empresa.\r\n",
        "\r\n",
        "Para essa análise iremos utilizar um único arquivo:\r\n",
        "\r\n",
        "* `listings.csv` - *Summary information and metrics for listings in Rio de Janeiro (good for visualisations).*"
      ]
    },
    {
      "cell_type": "code",
      "metadata": {
        "id": "kredI5cHmosx"
      },
      "source": [
        "# Realizando o import das bibliotecas necessárias para a analise.\r\n",
        "\r\n",
        "import pandas as pd\r\n",
        "import matplotlib.pyplot as plt\r\n",
        "import seaborn as sns\r\n",
        "import statistics"
      ],
      "execution_count": null,
      "outputs": []
    },
    {
      "cell_type": "code",
      "metadata": {
        "id": "OT8tBD1Emu_U"
      },
      "source": [
        "# Realizando o import dos dados.\r\n",
        "\r\n",
        "df = pd.read_csv('http://data.insideairbnb.com/brazil/rj/rio-de-janeiro/2020-12-23/visualisations/listings.csv')"
      ],
      "execution_count": null,
      "outputs": []
    },
    {
      "cell_type": "markdown",
      "metadata": {
        "id": "SkL5g6Qbx2Ep"
      },
      "source": [
        "## Análise de Dados\r\n",
        "\r\n",
        "Nessa etapa, iremos destrinchar os dados visando um maior entendimento do que os dados significam e o seu valor.\r\n",
        "\r\n",
        "**Dicionário de Variáveis**\r\n",
        "\r\n",
        "* `id` - Número de identificação do imóvel.\r\n",
        "* `name` - Nome referente ao imóvel.\r\n",
        "* `host_id` - Número de identificação do proprietário.\r\n",
        "* `host_name` - Nome do anfitrião.\r\n",
        "* `neighbourdhood_group` - Essa coluna não possui nenhum dado.\r\n",
        "* `neighbourhood` - Nome do bairro em que o imóvel está localizado.\r\n",
        "* `latitude` - Coordenadas de latitude do imóvel.\r\n",
        "* `longitude` - Coordenadas de longitude do imóvel.\r\n",
        "* `room_type` - Tipo de quarto que está sendo alugado.\r\n",
        "* `price` - Diária para alugar o imóvel.\r\n",
        "* `minimum_nights` - Mínimo de noites para se alugar o imóvel.\r\n",
        "* `number_of_reviews` - Número de avaliações que o imóvel recebeu.\r\n",
        "* `last_review` - Data em que o imóvel recebeu a última avaliação.\r\n",
        "* `reviews_per_month` - Média de quantas avaliações o imóvel recebe por mês.\r\n",
        "* `calculated_host_listing_count` - Quantos imóveis o anfitrião possui.\r\n",
        "* `availability_365` - Quantos dias no ano o imóvel fica disponível.\r\n",
        "\r\n",
        "Antes de iniciar qualquer análise aprofundada, vamos olhar como o nossos dados são, verificando as primeiras entradas.\r\n"
      ]
    },
    {
      "cell_type": "code",
      "metadata": {
        "colab": {
          "base_uri": "https://localhost:8080/",
          "height": 434
        },
        "id": "-0cU3O8yyIgN",
        "outputId": "661dff28-66f9-4fa8-9f27-7a50a5efde14"
      },
      "source": [
        "# Verificar as 5 primeiras entradas.\r\n",
        "\r\n",
        "df.head()"
      ],
      "execution_count": null,
      "outputs": [
        {
          "output_type": "execute_result",
          "data": {
            "text/html": [
              "<div>\n",
              "<style scoped>\n",
              "    .dataframe tbody tr th:only-of-type {\n",
              "        vertical-align: middle;\n",
              "    }\n",
              "\n",
              "    .dataframe tbody tr th {\n",
              "        vertical-align: top;\n",
              "    }\n",
              "\n",
              "    .dataframe thead th {\n",
              "        text-align: right;\n",
              "    }\n",
              "</style>\n",
              "<table border=\"1\" class=\"dataframe\">\n",
              "  <thead>\n",
              "    <tr style=\"text-align: right;\">\n",
              "      <th></th>\n",
              "      <th>id</th>\n",
              "      <th>name</th>\n",
              "      <th>host_id</th>\n",
              "      <th>host_name</th>\n",
              "      <th>neighbourhood_group</th>\n",
              "      <th>neighbourhood</th>\n",
              "      <th>latitude</th>\n",
              "      <th>longitude</th>\n",
              "      <th>room_type</th>\n",
              "      <th>price</th>\n",
              "      <th>minimum_nights</th>\n",
              "      <th>number_of_reviews</th>\n",
              "      <th>last_review</th>\n",
              "      <th>reviews_per_month</th>\n",
              "      <th>calculated_host_listings_count</th>\n",
              "      <th>availability_365</th>\n",
              "    </tr>\n",
              "  </thead>\n",
              "  <tbody>\n",
              "    <tr>\n",
              "      <th>0</th>\n",
              "      <td>17878</td>\n",
              "      <td>Very Nice 2Br in Copacabana w. balcony, fast WiFi</td>\n",
              "      <td>68997</td>\n",
              "      <td>Matthias</td>\n",
              "      <td>NaN</td>\n",
              "      <td>Copacabana</td>\n",
              "      <td>-22.96592</td>\n",
              "      <td>-43.17896</td>\n",
              "      <td>Entire home/apt</td>\n",
              "      <td>500</td>\n",
              "      <td>5</td>\n",
              "      <td>259</td>\n",
              "      <td>2020-12-26</td>\n",
              "      <td>2.03</td>\n",
              "      <td>1</td>\n",
              "      <td>0</td>\n",
              "    </tr>\n",
              "    <tr>\n",
              "      <th>1</th>\n",
              "      <td>25026</td>\n",
              "      <td>Beautiful Modern Decorated Studio in Copa</td>\n",
              "      <td>3746246</td>\n",
              "      <td>Ghizlane</td>\n",
              "      <td>NaN</td>\n",
              "      <td>Copacabana</td>\n",
              "      <td>-22.97712</td>\n",
              "      <td>-43.19045</td>\n",
              "      <td>Entire home/apt</td>\n",
              "      <td>160</td>\n",
              "      <td>7</td>\n",
              "      <td>238</td>\n",
              "      <td>2020-02-15</td>\n",
              "      <td>1.85</td>\n",
              "      <td>11</td>\n",
              "      <td>335</td>\n",
              "    </tr>\n",
              "    <tr>\n",
              "      <th>2</th>\n",
              "      <td>35636</td>\n",
              "      <td>Cosy flat close to Ipanema beach</td>\n",
              "      <td>153232</td>\n",
              "      <td>Patricia</td>\n",
              "      <td>NaN</td>\n",
              "      <td>Ipanema</td>\n",
              "      <td>-22.98816</td>\n",
              "      <td>-43.19359</td>\n",
              "      <td>Entire home/apt</td>\n",
              "      <td>259</td>\n",
              "      <td>2</td>\n",
              "      <td>181</td>\n",
              "      <td>2020-03-15</td>\n",
              "      <td>2.07</td>\n",
              "      <td>1</td>\n",
              "      <td>267</td>\n",
              "    </tr>\n",
              "    <tr>\n",
              "      <th>3</th>\n",
              "      <td>35764</td>\n",
              "      <td>COPACABANA SEA BREEZE  -  RIO - 20 X Superhost</td>\n",
              "      <td>153691</td>\n",
              "      <td>Patricia Miranda &amp; Paulo</td>\n",
              "      <td>NaN</td>\n",
              "      <td>Copacabana</td>\n",
              "      <td>-22.98127</td>\n",
              "      <td>-43.19046</td>\n",
              "      <td>Entire home/apt</td>\n",
              "      <td>157</td>\n",
              "      <td>3</td>\n",
              "      <td>346</td>\n",
              "      <td>2020-12-20</td>\n",
              "      <td>2.78</td>\n",
              "      <td>1</td>\n",
              "      <td>89</td>\n",
              "    </tr>\n",
              "    <tr>\n",
              "      <th>4</th>\n",
              "      <td>41198</td>\n",
              "      <td>Modern 2bed,Top end of Copacabana</td>\n",
              "      <td>178975</td>\n",
              "      <td>Nicky</td>\n",
              "      <td>NaN</td>\n",
              "      <td>Copacabana</td>\n",
              "      <td>-22.97962</td>\n",
              "      <td>-43.19230</td>\n",
              "      <td>Entire home/apt</td>\n",
              "      <td>1035</td>\n",
              "      <td>3</td>\n",
              "      <td>18</td>\n",
              "      <td>2016-02-09</td>\n",
              "      <td>0.19</td>\n",
              "      <td>2</td>\n",
              "      <td>365</td>\n",
              "    </tr>\n",
              "  </tbody>\n",
              "</table>\n",
              "</div>"
            ],
            "text/plain": [
              "      id  ... availability_365\n",
              "0  17878  ...                0\n",
              "1  25026  ...              335\n",
              "2  35636  ...              267\n",
              "3  35764  ...               89\n",
              "4  41198  ...              365\n",
              "\n",
              "[5 rows x 16 columns]"
            ]
          },
          "metadata": {
            "tags": []
          },
          "execution_count": 115
        }
      ]
    },
    {
      "cell_type": "markdown",
      "metadata": {
        "id": "rv-HRRANzy2O"
      },
      "source": [
        "### Q1. Quantas entradas e variáveis nosso dataset possui? Quais os tipos de dados presentes? Há valores ausentes?\r\n",
        "\r\n",
        "Vamos iniciar verificando a quantidade de entradas que temos disponíveis.\r\n",
        "O arquivo `listings.csv` é uma versão resumida de um dataset completo, que possui mais de 30 mil entradas e mais de 100 variáveis, este dataset também está disponível no site [Inside AirBnb](http://insideairbnb.com/)."
      ]
    },
    {
      "cell_type": "code",
      "metadata": {
        "colab": {
          "base_uri": "https://localhost:8080/"
        },
        "id": "zSYOX5hl0aBQ",
        "outputId": "6af5bf83-2a90-4a06-80b0-8633d2122401"
      },
      "source": [
        "# Verificar as entradas e variáveis do dataset.\r\n",
        "\r\n",
        "print('Entradas:\\t {}'.format(df.shape[0]))\r\n",
        "print('Variáveis:\\t {}\\n'.format(df.shape[1]))\r\n",
        "\r\n",
        "# Verificar o tipo dos dados em cada categoria.\r\n",
        "print(df.dtypes)"
      ],
      "execution_count": null,
      "outputs": [
        {
          "output_type": "stream",
          "text": [
            "Entradas:\t 25784\n",
            "Variáveis:\t 16\n",
            "\n",
            "id                                  int64\n",
            "name                               object\n",
            "host_id                             int64\n",
            "host_name                          object\n",
            "neighbourhood_group               float64\n",
            "neighbourhood                      object\n",
            "latitude                          float64\n",
            "longitude                         float64\n",
            "room_type                          object\n",
            "price                               int64\n",
            "minimum_nights                      int64\n",
            "number_of_reviews                   int64\n",
            "last_review                        object\n",
            "reviews_per_month                 float64\n",
            "calculated_host_listings_count      int64\n",
            "availability_365                    int64\n",
            "dtype: object\n"
          ],
          "name": "stdout"
        }
      ]
    },
    {
      "cell_type": "markdown",
      "metadata": {
        "id": "UVykIq7m1BLI"
      },
      "source": [
        "Agora vamos seguir a análise verificando se há valores ausentes no nosso dataset."
      ]
    },
    {
      "cell_type": "code",
      "metadata": {
        "colab": {
          "base_uri": "https://localhost:8080/"
        },
        "id": "Jbm5OtSj1FcZ",
        "outputId": "f7eda1a9-b3e6-41e4-f9e3-57943e792bb2"
      },
      "source": [
        "(df.isnull().sum()/df.shape[0]).sort_values(ascending = False)"
      ],
      "execution_count": null,
      "outputs": [
        {
          "output_type": "execute_result",
          "data": {
            "text/plain": [
              "neighbourhood_group               1.000000\n",
              "reviews_per_month                 0.385200\n",
              "last_review                       0.385200\n",
              "name                              0.001125\n",
              "host_name                         0.000310\n",
              "availability_365                  0.000000\n",
              "calculated_host_listings_count    0.000000\n",
              "number_of_reviews                 0.000000\n",
              "minimum_nights                    0.000000\n",
              "price                             0.000000\n",
              "room_type                         0.000000\n",
              "longitude                         0.000000\n",
              "latitude                          0.000000\n",
              "neighbourhood                     0.000000\n",
              "host_id                           0.000000\n",
              "id                                0.000000\n",
              "dtype: float64"
            ]
          },
          "metadata": {
            "tags": []
          },
          "execution_count": 117
        }
      ]
    },
    {
      "cell_type": "markdown",
      "metadata": {
        "id": "8Bh3jKDK1Rpn"
      },
      "source": [
        "Podemos observar que a coluna `neighbourgood_group` está sem dados, podendo ser excluida do dataset. As colunas `reviews_per_month` e `last_review` também apresentam ausência de dados, porém não são dados vitais para a nossa análise."
      ]
    },
    {
      "cell_type": "code",
      "metadata": {
        "id": "FxE9PlO81m58"
      },
      "source": [
        "# Remover a coluna neighbourhood_group\r\n",
        "\r\n",
        "df = df.drop(columns='neighbourhood_group');"
      ],
      "execution_count": null,
      "outputs": []
    },
    {
      "cell_type": "markdown",
      "metadata": {
        "id": "8UXnJ0kt2BJG"
      },
      "source": [
        "### Q2. Qual a distribuição dos dados?\r\n",
        "\r\n",
        "Utilizando um histograma, podemos verificar a distribuição dos dados por cada categoria."
      ]
    },
    {
      "cell_type": "code",
      "metadata": {
        "colab": {
          "base_uri": "https://localhost:8080/",
          "height": 607
        },
        "id": "ZtxSARji2I9e",
        "outputId": "2695c390-5ac4-4d87-f171-504e632236ef"
      },
      "source": [
        "df.hist(bins=15, figsize=(15,10));"
      ],
      "execution_count": null,
      "outputs": [
        {
          "output_type": "display_data",
          "data": {
            "image/png": "[encoded data removed]",
            "text/plain": [
              "<Figure size 1080x720 with 12 Axes>"
            ]
          },
          "metadata": {
            "tags": [],
            "needs_background": "light"
          }
        }
      ]
    },
    {
      "cell_type": "markdown",
      "metadata": {
        "id": "JrpgEtbq2ZG1"
      },
      "source": [
        "### Q3. Há outliers presentes?\r\n",
        "\r\n",
        "Como alguns histogramas apresentaram dados muito desbalanceados, iremos verificar a presença de outliers, que afetam a análise dos dados em conjunto não apresentando uma distribuição lógica.\r\n",
        "\r\n",
        "A coluna price, minimum_nights e calculated_host_listings_count apresentam valores desbalanceados nos histogramas, para isso vamos verificar o dataset como um todo para verificar a presença de mais outliers. Para isso vamos utlizar algumas ferramentas:\r\n",
        "- `describe()` - Para termos uma descrição melhor dos dados de cada categoria.\r\n",
        "- `boxplots` - Iremos plotar boxplots para detectarmos os outliers\r\n",
        "\r\n"
      ]
    },
    {
      "cell_type": "code",
      "metadata": {
        "colab": {
          "base_uri": "https://localhost:8080/",
          "height": 284
        },
        "id": "u9_pnBnA3f3v",
        "outputId": "d595819d-7b32-4e65-c8d9-45fcddf3b3d5"
      },
      "source": [
        "# Apresentar o resumo estatístico das variáveis.\r\n",
        "\r\n",
        "df[['price','minimum_nights', 'number_of_reviews','reviews_per_month', 'calculated_host_listings_count','availability_365']].describe()"
      ],
      "execution_count": null,
      "outputs": [
        {
          "output_type": "execute_result",
          "data": {
            "text/html": [
              "<div>\n",
              "<style scoped>\n",
              "    .dataframe tbody tr th:only-of-type {\n",
              "        vertical-align: middle;\n",
              "    }\n",
              "\n",
              "    .dataframe tbody tr th {\n",
              "        vertical-align: top;\n",
              "    }\n",
              "\n",
              "    .dataframe thead th {\n",
              "        text-align: right;\n",
              "    }\n",
              "</style>\n",
              "<table border=\"1\" class=\"dataframe\">\n",
              "  <thead>\n",
              "    <tr style=\"text-align: right;\">\n",
              "      <th></th>\n",
              "      <th>price</th>\n",
              "      <th>minimum_nights</th>\n",
              "      <th>number_of_reviews</th>\n",
              "      <th>reviews_per_month</th>\n",
              "      <th>calculated_host_listings_count</th>\n",
              "      <th>availability_365</th>\n",
              "    </tr>\n",
              "  </thead>\n",
              "  <tbody>\n",
              "    <tr>\n",
              "      <th>count</th>\n",
              "      <td>25784.000000</td>\n",
              "      <td>25784.000000</td>\n",
              "      <td>25784.000000</td>\n",
              "      <td>15852.000000</td>\n",
              "      <td>25784.000000</td>\n",
              "      <td>25784.000000</td>\n",
              "    </tr>\n",
              "    <tr>\n",
              "      <th>mean</th>\n",
              "      <td>879.820664</td>\n",
              "      <td>4.767491</td>\n",
              "      <td>11.960479</td>\n",
              "      <td>0.590130</td>\n",
              "      <td>6.582532</td>\n",
              "      <td>215.296114</td>\n",
              "    </tr>\n",
              "    <tr>\n",
              "      <th>std</th>\n",
              "      <td>5179.764367</td>\n",
              "      <td>19.042074</td>\n",
              "      <td>29.371931</td>\n",
              "      <td>0.819468</td>\n",
              "      <td>19.995586</td>\n",
              "      <td>140.893876</td>\n",
              "    </tr>\n",
              "    <tr>\n",
              "      <th>min</th>\n",
              "      <td>0.000000</td>\n",
              "      <td>1.000000</td>\n",
              "      <td>0.000000</td>\n",
              "      <td>0.010000</td>\n",
              "      <td>1.000000</td>\n",
              "      <td>0.000000</td>\n",
              "    </tr>\n",
              "    <tr>\n",
              "      <th>25%</th>\n",
              "      <td>200.000000</td>\n",
              "      <td>1.000000</td>\n",
              "      <td>0.000000</td>\n",
              "      <td>0.100000</td>\n",
              "      <td>1.000000</td>\n",
              "      <td>83.000000</td>\n",
              "    </tr>\n",
              "    <tr>\n",
              "      <th>50%</th>\n",
              "      <td>380.000000</td>\n",
              "      <td>2.000000</td>\n",
              "      <td>1.000000</td>\n",
              "      <td>0.240000</td>\n",
              "      <td>1.000000</td>\n",
              "      <td>247.000000</td>\n",
              "    </tr>\n",
              "    <tr>\n",
              "      <th>75%</th>\n",
              "      <td>776.000000</td>\n",
              "      <td>4.000000</td>\n",
              "      <td>9.000000</td>\n",
              "      <td>0.780000</td>\n",
              "      <td>3.000000</td>\n",
              "      <td>359.000000</td>\n",
              "    </tr>\n",
              "    <tr>\n",
              "      <th>max</th>\n",
              "      <td>593266.000000</td>\n",
              "      <td>1000.000000</td>\n",
              "      <td>431.000000</td>\n",
              "      <td>14.550000</td>\n",
              "      <td>200.000000</td>\n",
              "      <td>365.000000</td>\n",
              "    </tr>\n",
              "  </tbody>\n",
              "</table>\n",
              "</div>"
            ],
            "text/plain": [
              "               price  ...  availability_365\n",
              "count   25784.000000  ...      25784.000000\n",
              "mean      879.820664  ...        215.296114\n",
              "std      5179.764367  ...        140.893876\n",
              "min         0.000000  ...          0.000000\n",
              "25%       200.000000  ...         83.000000\n",
              "50%       380.000000  ...        247.000000\n",
              "75%       776.000000  ...        359.000000\n",
              "max    593266.000000  ...        365.000000\n",
              "\n",
              "[8 rows x 6 columns]"
            ]
          },
          "metadata": {
            "tags": []
          },
          "execution_count": 120
        }
      ]
    },
    {
      "cell_type": "markdown",
      "metadata": {
        "id": "xNAj9x8wCB0u"
      },
      "source": [
        "Observando melhor os dados estatísticos, podemos tirar algumas conclusões:\r\n",
        "- O maior preço apresentado é de RS593.266,00, o que claramente não faz nenhum sentido.\r\n",
        "- O menor preço apresentado é RS0,00, o que também não faz sentido, ninguém aluga um imóvel de graça.\r\n",
        "- Há imóveis onde é necessário ficar por pelo menos 1000 noites.\r\n",
        "- Há imóveis com disponibilidade anual de 0, ou seja, nunca estão disponíveis.\r\n",
        "\r\n",
        "Para verificar melhor esses valores, iremos utilizar bloxpots para cada uma dessas categorias."
      ]
    },
    {
      "cell_type": "markdown",
      "metadata": {
        "id": "5YZm1gOEDNxV"
      },
      "source": [
        "#### Boxplot Price"
      ]
    },
    {
      "cell_type": "code",
      "metadata": {
        "colab": {
          "base_uri": "https://localhost:8080/",
          "height": 387
        },
        "id": "QLj0giFEC7XL",
        "outputId": "bb204f0a-7ce9-470a-b52d-f08eb4373337"
      },
      "source": [
        "# boxplot price\r\n",
        "df.price.plot(kind='box', vert = False, figsize = (15,5));\r\n",
        "\r\n",
        "# verificar a quantidade de entradas com valores superiores a 5000\r\n",
        "print('\\nprice: valores acima de 5000')\r\n",
        "print('{} entradas'.format(len(df[df.price > 5000])))\r\n",
        "print('{:.4f}% dos valores'.format(len(df[df.price > 5000]) / df.shape[0] * 100))"
      ],
      "execution_count": null,
      "outputs": [
        {
          "output_type": "stream",
          "text": [
            "\n",
            "price: valores acima de 5000\n",
            "438 entradas\n",
            "1.6987% dos valores\n"
          ],
          "name": "stdout"
        },
        {
          "output_type": "display_data",
          "data": {
            "image/png": "[encoded data removed]",
            "text/plain": [
              "<Figure size 1080x360 with 1 Axes>"
            ]
          },
          "metadata": {
            "tags": [],
            "needs_background": "light"
          }
        }
      ]
    },
    {
      "cell_type": "markdown",
      "metadata": {
        "id": "mfvla-vVEM5-"
      },
      "source": [
        "Como podemos observar, há poucos imóveis que apresentam um valor de diária superior a 5 mil reais, podendo ser removidos para não afetar a análise dos dados."
      ]
    },
    {
      "cell_type": "markdown",
      "metadata": {
        "id": "YonaE4gJEbhT"
      },
      "source": [
        "#### Boxplot Minimum Nights"
      ]
    },
    {
      "cell_type": "code",
      "metadata": {
        "colab": {
          "base_uri": "https://localhost:8080/",
          "height": 387
        },
        "id": "k_-r7SocEevV",
        "outputId": "f6ea92ed-b9be-4608-be69-1f4e6d5b06e7"
      },
      "source": [
        "# boxplot minimum nights\r\n",
        "df.minimum_nights.plot(kind='box', vert = False, figsize = (15,5));\r\n",
        "\r\n",
        "# verificar a quantidade de entradas maiores que 30\r\n",
        "print('\\nprice: valores acima de 30')\r\n",
        "print('{} entradas'.format(len(df[df.minimum_nights > 30])))\r\n",
        "print('{:.4f}% dos valores'.format(len(df[df.minimum_nights > 30]) / df.shape[0] * 100))\r\n",
        "\r\n"
      ],
      "execution_count": null,
      "outputs": [
        {
          "output_type": "stream",
          "text": [
            "\n",
            "price: valores acima de 30\n",
            "199 entradas\n",
            "0.7718% dos valores\n"
          ],
          "name": "stdout"
        },
        {
          "output_type": "display_data",
          "data": {
            "image/png": "[encoded data removed]",
            "text/plain": [
              "<Figure size 1080x360 with 1 Axes>"
            ]
          },
          "metadata": {
            "tags": [],
            "needs_background": "light"
          }
        }
      ]
    },
    {
      "cell_type": "markdown",
      "metadata": {
        "id": "UQh_Cw5kE21O"
      },
      "source": [
        "### Q4. Histograma sem outliers\r\n",
        "\r\n",
        "Agora que identificamos a presença de outliers entre os dados, podemos plotar histogramas sem a presença desses dados para melhor visualização."
      ]
    },
    {
      "cell_type": "code",
      "metadata": {
        "colab": {
          "base_uri": "https://localhost:8080/",
          "height": 708
        },
        "id": "LHzfFc-2E-de",
        "outputId": "9d1afbf6-76e6-4947-9b00-518cbb5631f1"
      },
      "source": [
        "# remover outliers do dataset\r\n",
        "df_clean = df.copy()\r\n",
        "df_clean.drop(df_clean[df.price > 5000].index, axis = 0, inplace = True);\r\n",
        "df_clean.drop(df_clean[df.price == 0].index, axis = 0, inplace = True);\r\n",
        "df_clean.drop(df_clean[df.minimum_nights > 30].index, axis = 0, inplace = True);\r\n",
        "df_clean.drop(df_clean[df.availability_365 == 0].index, axis = 0, inplace = True);\r\n",
        "\r\n",
        "# plotar um novo histograma \r\n",
        "df_clean.hist(bins = 15, figsize = (15,10));"
      ],
      "execution_count": null,
      "outputs": [
        {
          "output_type": "stream",
          "text": [
            "/usr/local/lib/python3.6/dist-packages/ipykernel_launcher.py:4: UserWarning: Boolean Series key will be reindexed to match DataFrame index.\n",
            "  after removing the cwd from sys.path.\n",
            "/usr/local/lib/python3.6/dist-packages/ipykernel_launcher.py:5: UserWarning: Boolean Series key will be reindexed to match DataFrame index.\n",
            "  \"\"\"\n",
            "/usr/local/lib/python3.6/dist-packages/ipykernel_launcher.py:6: UserWarning: Boolean Series key will be reindexed to match DataFrame index.\n",
            "  \n"
          ],
          "name": "stderr"
        },
        {
          "output_type": "display_data",
          "data": {
            "image/png": "[encoded data removed]",
            "text/plain": [
              "<Figure size 1080x720 with 12 Axes>"
            ]
          },
          "metadata": {
            "tags": [],
            "needs_background": "light"
          }
        }
      ]
    },
    {
      "cell_type": "markdown",
      "metadata": {
        "id": "fLjr0nLVGDde"
      },
      "source": [
        "Agora com os dados \"limpos\" podemos observar melhor cada uma das categorias."
      ]
    },
    {
      "cell_type": "markdown",
      "metadata": {
        "id": "XBUW0qC0GJPf"
      },
      "source": [
        "### Q5. verificar a existência de correlação entre os dados\r\n",
        "\r\n",
        "A correlação é a existência de relação entre duas variáveis, no nosso caso estamos buscando a semelhança entre as variáveis.\r\n",
        "\r\n",
        "Esta relação pode ser medida através de um coeficiente de correlação. Para identificar esse coeficiente iremos utilizar duas ferramentas:\r\n",
        "- Matriz de correlação\r\n",
        "- Heatmap desta matriz, utilizando a biblioteca `seaborn`"
      ]
    },
    {
      "cell_type": "code",
      "metadata": {
        "colab": {
          "base_uri": "https://localhost:8080/",
          "height": 225
        },
        "id": "qpLScqTIGr_6",
        "outputId": "ff689b7c-6385-439c-ae28-1c4c09b98ed4"
      },
      "source": [
        "# gerar uma matriz de correlação\r\n",
        "corr = df[['price','minimum_nights', 'number_of_reviews','reviews_per_month', 'calculated_host_listings_count','availability_365']].corr()\r\n",
        "\r\n",
        "display(corr)"
      ],
      "execution_count": null,
      "outputs": [
        {
          "output_type": "display_data",
          "data": {
            "text/html": [
              "<div>\n",
              "<style scoped>\n",
              "    .dataframe tbody tr th:only-of-type {\n",
              "        vertical-align: middle;\n",
              "    }\n",
              "\n",
              "    .dataframe tbody tr th {\n",
              "        vertical-align: top;\n",
              "    }\n",
              "\n",
              "    .dataframe thead th {\n",
              "        text-align: right;\n",
              "    }\n",
              "</style>\n",
              "<table border=\"1\" class=\"dataframe\">\n",
              "  <thead>\n",
              "    <tr style=\"text-align: right;\">\n",
              "      <th></th>\n",
              "      <th>price</th>\n",
              "      <th>minimum_nights</th>\n",
              "      <th>number_of_reviews</th>\n",
              "      <th>reviews_per_month</th>\n",
              "      <th>calculated_host_listings_count</th>\n",
              "      <th>availability_365</th>\n",
              "    </tr>\n",
              "  </thead>\n",
              "  <tbody>\n",
              "    <tr>\n",
              "      <th>price</th>\n",
              "      <td>1.000000</td>\n",
              "      <td>0.006414</td>\n",
              "      <td>-0.028197</td>\n",
              "      <td>-0.031851</td>\n",
              "      <td>0.051198</td>\n",
              "      <td>0.028336</td>\n",
              "    </tr>\n",
              "    <tr>\n",
              "      <th>minimum_nights</th>\n",
              "      <td>0.006414</td>\n",
              "      <td>1.000000</td>\n",
              "      <td>-0.033638</td>\n",
              "      <td>-0.040159</td>\n",
              "      <td>-0.002016</td>\n",
              "      <td>0.029267</td>\n",
              "    </tr>\n",
              "    <tr>\n",
              "      <th>number_of_reviews</th>\n",
              "      <td>-0.028197</td>\n",
              "      <td>-0.033638</td>\n",
              "      <td>1.000000</td>\n",
              "      <td>0.646398</td>\n",
              "      <td>-0.046591</td>\n",
              "      <td>-0.079857</td>\n",
              "    </tr>\n",
              "    <tr>\n",
              "      <th>reviews_per_month</th>\n",
              "      <td>-0.031851</td>\n",
              "      <td>-0.040159</td>\n",
              "      <td>0.646398</td>\n",
              "      <td>1.000000</td>\n",
              "      <td>-0.016727</td>\n",
              "      <td>-0.156297</td>\n",
              "    </tr>\n",
              "    <tr>\n",
              "      <th>calculated_host_listings_count</th>\n",
              "      <td>0.051198</td>\n",
              "      <td>-0.002016</td>\n",
              "      <td>-0.046591</td>\n",
              "      <td>-0.016727</td>\n",
              "      <td>1.000000</td>\n",
              "      <td>0.005112</td>\n",
              "    </tr>\n",
              "    <tr>\n",
              "      <th>availability_365</th>\n",
              "      <td>0.028336</td>\n",
              "      <td>0.029267</td>\n",
              "      <td>-0.079857</td>\n",
              "      <td>-0.156297</td>\n",
              "      <td>0.005112</td>\n",
              "      <td>1.000000</td>\n",
              "    </tr>\n",
              "  </tbody>\n",
              "</table>\n",
              "</div>"
            ],
            "text/plain": [
              "                                   price  ...  availability_365\n",
              "price                           1.000000  ...          0.028336\n",
              "minimum_nights                  0.006414  ...          0.029267\n",
              "number_of_reviews              -0.028197  ...         -0.079857\n",
              "reviews_per_month              -0.031851  ...         -0.156297\n",
              "calculated_host_listings_count  0.051198  ...          0.005112\n",
              "availability_365                0.028336  ...          1.000000\n",
              "\n",
              "[6 rows x 6 columns]"
            ]
          },
          "metadata": {
            "tags": []
          }
        }
      ]
    },
    {
      "cell_type": "code",
      "metadata": {
        "colab": {
          "base_uri": "https://localhost:8080/",
          "height": 411
        },
        "id": "o1prgEqkHJCH",
        "outputId": "eab17596-337b-4b63-b131-6112af8319c3"
      },
      "source": [
        "# gerar um heatmap da matriz de correlação\r\n",
        "sns.heatmap(corr, square=True, linecolor='white', annot=True, fmt = '.2f', cmap='RdBu');"
      ],
      "execution_count": null,
      "outputs": [
        {
          "output_type": "display_data",
          "data": {
            "image/png": "[encoded data removed]",
            "text/plain": [
              "<Figure size 432x288 with 2 Axes>"
            ]
          },
          "metadata": {
            "tags": [],
            "needs_background": "light"
          }
        }
      ]
    },
    {
      "cell_type": "markdown",
      "metadata": {
        "id": "Ua7RSe2eYsap"
      },
      "source": [
        "## Q6. Qual o tipo de imóvel mais alugado no AirBnb?\r\n",
        "\r\n",
        "A coluna `room_type` especifica qual o tipo de imóvel que está sendo alugado. Se você já utilizou o AirBnb alguma vez sabe que se pode alugar um imóvel completo, ou optar por alugar apenas um quarto ou compartilhar esse quarto com outras pessoas.\r\n",
        "\r\n",
        "Para verificar qual o tipo de imóvel mais alugado, iremos contar as ocorrências de cada tipo de imóvel."
      ]
    },
    {
      "cell_type": "code",
      "metadata": {
        "colab": {
          "base_uri": "https://localhost:8080/"
        },
        "id": "Pa5uOlIPZIfn",
        "outputId": "bc76dc43-b275-42d7-91bd-da17eb7da0ec"
      },
      "source": [
        "# mostrar a quantidade de imóveis alugados por tipo\r\n",
        "\r\n",
        "df_clean.room_type.value_counts()"
      ],
      "execution_count": null,
      "outputs": [
        {
          "output_type": "execute_result",
          "data": {
            "text/plain": [
              "Entire home/apt    16429\n",
              "Private room        5575\n",
              "Shared room          513\n",
              "Hotel room            90\n",
              "Name: room_type, dtype: int64"
            ]
          },
          "metadata": {
            "tags": []
          },
          "execution_count": 126
        }
      ]
    },
    {
      "cell_type": "code",
      "metadata": {
        "colab": {
          "base_uri": "https://localhost:8080/"
        },
        "id": "1na5lcqzZR3O",
        "outputId": "8f1202a9-c6c5-45db-fc45-835b7fd48667"
      },
      "source": [
        "# mostrar a porcentagem de imóveis alugados por tipo\r\n",
        "\r\n",
        "df_clean.room_type.value_counts() / df_clean.shape[0]"
      ],
      "execution_count": null,
      "outputs": [
        {
          "output_type": "execute_result",
          "data": {
            "text/plain": [
              "Entire home/apt    0.726722\n",
              "Private room       0.246605\n",
              "Shared room        0.022692\n",
              "Hotel room         0.003981\n",
              "Name: room_type, dtype: float64"
            ]
          },
          "metadata": {
            "tags": []
          },
          "execution_count": 127
        }
      ]
    },
    {
      "cell_type": "markdown",
      "metadata": {
        "id": "S7oGUOhsZnfF"
      },
      "source": [
        "## Q7. Qual a média de preços no Rio de Janeiro?\r\n",
        "\r\n",
        "Como podemos agrupar variáveis em funções de outras variáveis utilizando a função `groupby()`, podemos calcular o preço médio dos imóveis em função de várias categorias.\r\n",
        "\r\n",
        "### Preço médio da cidade"
      ]
    },
    {
      "cell_type": "code",
      "metadata": {
        "colab": {
          "base_uri": "https://localhost:8080/"
        },
        "id": "SGG1eBGmaCJw",
        "outputId": "82515dae-52f3-4836-bc67-bf1a1e0c98ca"
      },
      "source": [
        "df_clean.price.mean()"
      ],
      "execution_count": null,
      "outputs": [
        {
          "output_type": "execute_result",
          "data": {
            "text/plain": [
              "606.01101428761"
            ]
          },
          "metadata": {
            "tags": []
          },
          "execution_count": 128
        }
      ]
    },
    {
      "cell_type": "markdown",
      "metadata": {
        "id": "ffnmsyyoaLSk"
      },
      "source": [
        "### Preço médio por bairro\r\n",
        "\r\n",
        "Qual o bairro mais barato do Rio de Janeiro?"
      ]
    },
    {
      "cell_type": "code",
      "metadata": {
        "colab": {
          "base_uri": "https://localhost:8080/"
        },
        "id": "gH5XPNfJaf9y",
        "outputId": "935800f1-847e-473d-a1ea-ae124c23d56a"
      },
      "source": [
        "df_clean.groupby(['neighbourhood']).price.mean().sort_values(ascending = True)[:5]"
      ],
      "execution_count": null,
      "outputs": [
        {
          "output_type": "execute_result",
          "data": {
            "text/plain": [
              "neighbourhood\n",
              "Vigário Geral    59.00\n",
              "Vila Kosmos      85.00\n",
              "Bonsucesso       87.95\n",
              "Coelho Neto      88.00\n",
              "Tomás Coelho     93.50\n",
              "Name: price, dtype: float64"
            ]
          },
          "metadata": {
            "tags": []
          },
          "execution_count": 129
        }
      ]
    },
    {
      "cell_type": "markdown",
      "metadata": {
        "id": "JWSpDmIHavYa"
      },
      "source": [
        "Qual o bairro mais caro do Rio de Janeiro?"
      ]
    },
    {
      "cell_type": "code",
      "metadata": {
        "colab": {
          "base_uri": "https://localhost:8080/"
        },
        "id": "yFYPAZyNaxeM",
        "outputId": "65551335-338e-445b-9b15-4c4d3a0a6865"
      },
      "source": [
        "df_clean.groupby(['neighbourhood']).price.mean().sort_values(ascending = False)[:5]"
      ],
      "execution_count": null,
      "outputs": [
        {
          "output_type": "execute_result",
          "data": {
            "text/plain": [
              "neighbourhood\n",
              "Anchieta             2729.500000\n",
              "Joá                  1717.472727\n",
              "Vista Alegre         1262.000000\n",
              "Alto da Boa Vista    1081.413793\n",
              "Grumari              1003.000000\n",
              "Name: price, dtype: float64"
            ]
          },
          "metadata": {
            "tags": []
          },
          "execution_count": 130
        }
      ]
    },
    {
      "cell_type": "markdown",
      "metadata": {
        "id": "8vm3nXPUa3vS"
      },
      "source": [
        "Qualquer pessoa que não more no Brasil e for analisar esses mesmos dados, poderia achar que a Anchieta é o bairro mais caro do Rio de Janeiro. Como bom brasileiro, é estranho ver esse ranking e não encontrar o Leblon, Copacabana ou Itapema, e o motivo disso é a falta de imóveis nesses bairros, com que faz com que uma medida como a média não seja tão eficiente."
      ]
    },
    {
      "cell_type": "code",
      "metadata": {
        "colab": {
          "base_uri": "https://localhost:8080/",
          "height": 194
        },
        "id": "ouNsJda6bRrR",
        "outputId": "8cd6c618-dc1c-46f0-8de6-a9bc6e1b7b34"
      },
      "source": [
        "# verificar quantidade de imóveis no bairro Anchieta\r\n",
        "print(df_clean[df_clean.neighbourhood == 'Anchieta'].shape)\r\n",
        "\r\n",
        "# verificar os imóveis no bairro Anchieta\r\n",
        "df_clean[df_clean.neighbourhood == 'Anchieta']"
      ],
      "execution_count": null,
      "outputs": [
        {
          "output_type": "stream",
          "text": [
            "(2, 15)\n"
          ],
          "name": "stdout"
        },
        {
          "output_type": "execute_result",
          "data": {
            "text/html": [
              "<div>\n",
              "<style scoped>\n",
              "    .dataframe tbody tr th:only-of-type {\n",
              "        vertical-align: middle;\n",
              "    }\n",
              "\n",
              "    .dataframe tbody tr th {\n",
              "        vertical-align: top;\n",
              "    }\n",
              "\n",
              "    .dataframe thead th {\n",
              "        text-align: right;\n",
              "    }\n",
              "</style>\n",
              "<table border=\"1\" class=\"dataframe\">\n",
              "  <thead>\n",
              "    <tr style=\"text-align: right;\">\n",
              "      <th></th>\n",
              "      <th>id</th>\n",
              "      <th>name</th>\n",
              "      <th>host_id</th>\n",
              "      <th>host_name</th>\n",
              "      <th>neighbourhood</th>\n",
              "      <th>latitude</th>\n",
              "      <th>longitude</th>\n",
              "      <th>room_type</th>\n",
              "      <th>price</th>\n",
              "      <th>minimum_nights</th>\n",
              "      <th>number_of_reviews</th>\n",
              "      <th>last_review</th>\n",
              "      <th>reviews_per_month</th>\n",
              "      <th>calculated_host_listings_count</th>\n",
              "      <th>availability_365</th>\n",
              "    </tr>\n",
              "  </thead>\n",
              "  <tbody>\n",
              "    <tr>\n",
              "      <th>7698</th>\n",
              "      <td>13514057</td>\n",
              "      <td>Rent home for Olympics</td>\n",
              "      <td>77573884</td>\n",
              "      <td>Plinio</td>\n",
              "      <td>Anchieta</td>\n",
              "      <td>-22.82950</td>\n",
              "      <td>-43.40728</td>\n",
              "      <td>Entire home/apt</td>\n",
              "      <td>4659</td>\n",
              "      <td>1</td>\n",
              "      <td>0</td>\n",
              "      <td>NaN</td>\n",
              "      <td>NaN</td>\n",
              "      <td>1</td>\n",
              "      <td>365</td>\n",
              "    </tr>\n",
              "    <tr>\n",
              "      <th>20797</th>\n",
              "      <td>41532220</td>\n",
              "      <td>Casa da Andressa</td>\n",
              "      <td>303489661</td>\n",
              "      <td>Geovana Vithoria</td>\n",
              "      <td>Anchieta</td>\n",
              "      <td>-22.81787</td>\n",
              "      <td>-43.38882</td>\n",
              "      <td>Shared room</td>\n",
              "      <td>800</td>\n",
              "      <td>3</td>\n",
              "      <td>0</td>\n",
              "      <td>NaN</td>\n",
              "      <td>NaN</td>\n",
              "      <td>2</td>\n",
              "      <td>90</td>\n",
              "    </tr>\n",
              "  </tbody>\n",
              "</table>\n",
              "</div>"
            ],
            "text/plain": [
              "             id  ... availability_365\n",
              "7698   13514057  ...              365\n",
              "20797  41532220  ...               90\n",
              "\n",
              "[2 rows x 15 columns]"
            ]
          },
          "metadata": {
            "tags": []
          },
          "execution_count": 131
        }
      ]
    },
    {
      "cell_type": "markdown",
      "metadata": {
        "id": "MY5yPw0_bqYz"
      },
      "source": [
        "Como comentado, há somente 2 imóveis nesse bairro, o que confirma que a média pode não ser uma boa medida."
      ]
    },
    {
      "cell_type": "markdown",
      "metadata": {
        "id": "8La2nRV8Kv9L"
      },
      "source": [
        "## Q8. Qual o número de imóveis disponíveis por bairro?\r\n",
        "\r\n",
        "Podemos realizar a contagem de imóveis disponíveis por bairro, pra descobrirmos os bairros que possuem mais disponibilidade."
      ]
    },
    {
      "cell_type": "code",
      "metadata": {
        "colab": {
          "base_uri": "https://localhost:8080/"
        },
        "id": "K9PYO7tfLVaQ",
        "outputId": "19dd81e8-ac83-489c-e0d6-a62a510beb1b"
      },
      "source": [
        "# contagem de imóveis por bairro\r\n",
        "\r\n",
        "df_clean.neighbourhood.value_counts()"
      ],
      "execution_count": null,
      "outputs": [
        {
          "output_type": "execute_result",
          "data": {
            "text/plain": [
              "Copacabana          6579\n",
              "Barra da Tijuca     2299\n",
              "Ipanema             2169\n",
              "Jacarepaguá         1168\n",
              "Botafogo            1076\n",
              "                    ... \n",
              "Cavalcanti             1\n",
              "Vista Alegre           1\n",
              "Magalhães Bastos       1\n",
              "Vila Kosmos            1\n",
              "Maré                   1\n",
              "Name: neighbourhood, Length: 151, dtype: int64"
            ]
          },
          "metadata": {
            "tags": []
          },
          "execution_count": 138
        }
      ]
    },
    {
      "cell_type": "markdown",
      "metadata": {
        "id": "xO7EbR8rM20Z"
      },
      "source": [
        "## Conclusões\r\n",
        "\r\n",
        "Mesmo sendo uma breve análise, pode-se confirmar a existência de outliers dentre os imóveis publicados. Assim como há bairros onde poucos imóveis são alugados, muitos com menos de 10 imóveis por bairro, o que acaba distorcendo as análises estatísticas.\r\n",
        "\r\n",
        "Porém, removendo parte dos outliers podemos tirar algumas conclusões:\r\n",
        "- O preço médio da diária na cidade do Rio de Janeiro é de RS606,00.\r\n",
        "\r\n",
        "- O bairro mais barato do Rio de Janeiro custa em média RS2729,50 e o mais barato custa RS59,00.\r\n",
        "\r\n",
        "- O bairro com mais imóveis disponíveis é o bairro de Copacabana, seguido da Barra da Tijuca e Ipanema.\r\n",
        "\r\n",
        "- As pessoas preferem alugar um imóvel inteiro para si ao optar por quartos ou quartos compartilhados.\r\n",
        "\r\n",
        "Vale lembrar que este dataset é uma versão resumida, disponibilizada pela empresa, sendo utilizado para uma abordagem inicial."
      ]
    }
  ]
}