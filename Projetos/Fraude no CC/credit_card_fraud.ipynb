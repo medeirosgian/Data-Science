{
  "nbformat": 4,
  "nbformat_minor": 0,
  "metadata": {
    "colab": {
      "name": "credit_card_fraud.ipynb",
      "provenance": [],
      "mount_file_id": "1K5lpDmscNBHn1WZxqcwrV_nCYZetLr2p",
      "authorship_tag": "ABX9TyMjGssQ8W4GPC7PviMgFGei",
      "include_colab_link": true
    },
    "kernelspec": {
      "name": "python3",
      "display_name": "Python 3"
    },
    "language_info": {
      "name": "python"
    }
  },
  "cells": [
    {
      "cell_type": "markdown",
      "metadata": {
        "id": "view-in-github",
        "colab_type": "text"
      },
      "source": [
        "<a href=\"https://colab.research.google.com/github/medeirosgian/Data-Science/blob/main/Projetos/Fraude%20no%20CC/credit_card_fraud.ipynb\" target=\"_parent\"><img src=\"https://colab.research.google.com/assets/colab-badge.svg\" alt=\"Open In Colab\"/></a>"
      ]
    },
    {
      "cell_type": "markdown",
      "metadata": {
        "id": "Q3zieFBbETn2"
      },
      "source": [
        "# Previsão de fraudes no cartão de crédito através de modelos de Machine Learning"
      ]
    },
    {
      "cell_type": "markdown",
      "metadata": {
        "id": "Ewe8SvWLO5n1"
      },
      "source": [
        "Só no período de Junho de 2019 a Junho de 2020, cerca de quase 9 milhões de brasileiros foram vítimas de algum tipo de fraude utilizando cartões de banco (fonte: [NotíciasR7](https://noticias.r7.com/economia/fraudes-com-cartao-disparam-na-pandemia-veja-como-se-prevenir-19062020)), e cerca de 58% dessas fraudes são feitas utilizando o cartão de crédito como via (fonte: [Época](https://oglobo.globo.com/epoca/guilherme-amado/58-das-fraudes-de-2020-foram-com-cartao-de-credito-diz-pesquisa-24828376#:~:text=Em%202020%2C%2058%25%20das%20fraudes,feitas%20com%20cart%C3%A3o%20de%20cr%C3%A9dito.&text=No%20per%C3%ADodo%2C%20a%20pesquisa%20detectou,de%20notas%20falsas%20(8%25).)).\n",
        "\n",
        "Tentando solucionar esse tipo de problema, cada vez mais os bancos implementam maneiras de detectar essas operações fraudulentas, para evitar o incômodo tanto por parte dos clientes quanto por parte do banco que tem de fazer o ressarcimento.\n",
        "\n",
        "<p align=center>\n",
        "<img src=\"https://www.melhoresdestinos.com.br/wp-content/uploads/2020/08/cartao-de-credito-pagbank-sem-anuidade-820x603.png\" width=\"60%\"></p>\n",
        "\n",
        "Aproveitando a narrativa, neste projeto iremos abordar o tema e desenvolver um método de **previsão de fraudes no cartão de crédito utilizando modelos de Machine Learning**, além de abordar os problemas e cuidados nesse tipo de desenvolvimento."
      ]
    },
    {
      "cell_type": "markdown",
      "metadata": {
        "id": "9PU8rwljRRaH"
      },
      "source": [
        "## Obtendo dados\n",
        "\n",
        "Como em qualquer outro problema de Data Science, dados são a base de qualquer análise, neste caso iremos utilizar dados disponibilizados publicamente via [Kaggle](https://www.kaggle.com/mlg-ulb/creditcardfraud) de bancos europeus, todos os dados são anônimos para preservar a identidade dos clientes. Os dados são referentes a transações realizadas pelos consumidores no mês de Setembro de 2013."
      ]
    },
    {
      "cell_type": "code",
      "metadata": {
        "id": "lGxYRlmEU4Vc"
      },
      "source": [
        "# Instalar scikitplot\n",
        "!pip install -q scikit-plot"
      ],
      "execution_count": 99,
      "outputs": []
    },
    {
      "cell_type": "code",
      "metadata": {
        "id": "RE4a2rHaoapj"
      },
      "source": [
        "# Import das bibliotecas\n",
        "import pandas as pd\n",
        "import matplotlib.pyplot as plt\n",
        "import seaborn as sns\n",
        "import scikitplot as skplt\n",
        "from sklearn.metrics import roc_auc_score, roc_curve, accuracy_score"
      ],
      "execution_count": 100,
      "outputs": []
    },
    {
      "cell_type": "markdown",
      "metadata": {
        "id": "QVZx2wYFSLr7"
      },
      "source": [
        "**Os dados não foram hospedados no GitHub por ultrapassarem o limite máximo de hospedagem do site**"
      ]
    },
    {
      "cell_type": "code",
      "metadata": {
        "colab": {
          "base_uri": "https://localhost:8080/",
          "height": 215
        },
        "id": "_1RB5SHCoeXy",
        "outputId": "5f9b6ba4-4f87-41c0-c10a-fc1a1e417338"
      },
      "source": [
        "# Import dos dados\n",
        "df = pd.read_csv('/content/drive/MyDrive/Colab Notebooks/creditcard.csv', sep=',')\n",
        "df.head()"
      ],
      "execution_count": 101,
      "outputs": [
        {
          "output_type": "execute_result",
          "data": {
            "text/html": [
              "<div>\n",
              "<style scoped>\n",
              "    .dataframe tbody tr th:only-of-type {\n",
              "        vertical-align: middle;\n",
              "    }\n",
              "\n",
              "    .dataframe tbody tr th {\n",
              "        vertical-align: top;\n",
              "    }\n",
              "\n",
              "    .dataframe thead th {\n",
              "        text-align: right;\n",
              "    }\n",
              "</style>\n",
              "<table border=\"1\" class=\"dataframe\">\n",
              "  <thead>\n",
              "    <tr style=\"text-align: right;\">\n",
              "      <th></th>\n",
              "      <th>Time</th>\n",
              "      <th>V1</th>\n",
              "      <th>V2</th>\n",
              "      <th>V3</th>\n",
              "      <th>V4</th>\n",
              "      <th>V5</th>\n",
              "      <th>V6</th>\n",
              "      <th>V7</th>\n",
              "      <th>V8</th>\n",
              "      <th>V9</th>\n",
              "      <th>V10</th>\n",
              "      <th>V11</th>\n",
              "      <th>V12</th>\n",
              "      <th>V13</th>\n",
              "      <th>V14</th>\n",
              "      <th>V15</th>\n",
              "      <th>V16</th>\n",
              "      <th>V17</th>\n",
              "      <th>V18</th>\n",
              "      <th>V19</th>\n",
              "      <th>V20</th>\n",
              "      <th>V21</th>\n",
              "      <th>V22</th>\n",
              "      <th>V23</th>\n",
              "      <th>V24</th>\n",
              "      <th>V25</th>\n",
              "      <th>V26</th>\n",
              "      <th>V27</th>\n",
              "      <th>V28</th>\n",
              "      <th>Amount</th>\n",
              "      <th>Class</th>\n",
              "    </tr>\n",
              "  </thead>\n",
              "  <tbody>\n",
              "    <tr>\n",
              "      <th>0</th>\n",
              "      <td>0.0</td>\n",
              "      <td>-1.359807</td>\n",
              "      <td>-0.072781</td>\n",
              "      <td>2.536347</td>\n",
              "      <td>1.378155</td>\n",
              "      <td>-0.338321</td>\n",
              "      <td>0.462388</td>\n",
              "      <td>0.239599</td>\n",
              "      <td>0.098698</td>\n",
              "      <td>0.363787</td>\n",
              "      <td>0.090794</td>\n",
              "      <td>-0.551600</td>\n",
              "      <td>-0.617801</td>\n",
              "      <td>-0.991390</td>\n",
              "      <td>-0.311169</td>\n",
              "      <td>1.468177</td>\n",
              "      <td>-0.470401</td>\n",
              "      <td>0.207971</td>\n",
              "      <td>0.025791</td>\n",
              "      <td>0.403993</td>\n",
              "      <td>0.251412</td>\n",
              "      <td>-0.018307</td>\n",
              "      <td>0.277838</td>\n",
              "      <td>-0.110474</td>\n",
              "      <td>0.066928</td>\n",
              "      <td>0.128539</td>\n",
              "      <td>-0.189115</td>\n",
              "      <td>0.133558</td>\n",
              "      <td>-0.021053</td>\n",
              "      <td>149.62</td>\n",
              "      <td>0</td>\n",
              "    </tr>\n",
              "    <tr>\n",
              "      <th>1</th>\n",
              "      <td>0.0</td>\n",
              "      <td>1.191857</td>\n",
              "      <td>0.266151</td>\n",
              "      <td>0.166480</td>\n",
              "      <td>0.448154</td>\n",
              "      <td>0.060018</td>\n",
              "      <td>-0.082361</td>\n",
              "      <td>-0.078803</td>\n",
              "      <td>0.085102</td>\n",
              "      <td>-0.255425</td>\n",
              "      <td>-0.166974</td>\n",
              "      <td>1.612727</td>\n",
              "      <td>1.065235</td>\n",
              "      <td>0.489095</td>\n",
              "      <td>-0.143772</td>\n",
              "      <td>0.635558</td>\n",
              "      <td>0.463917</td>\n",
              "      <td>-0.114805</td>\n",
              "      <td>-0.183361</td>\n",
              "      <td>-0.145783</td>\n",
              "      <td>-0.069083</td>\n",
              "      <td>-0.225775</td>\n",
              "      <td>-0.638672</td>\n",
              "      <td>0.101288</td>\n",
              "      <td>-0.339846</td>\n",
              "      <td>0.167170</td>\n",
              "      <td>0.125895</td>\n",
              "      <td>-0.008983</td>\n",
              "      <td>0.014724</td>\n",
              "      <td>2.69</td>\n",
              "      <td>0</td>\n",
              "    </tr>\n",
              "    <tr>\n",
              "      <th>2</th>\n",
              "      <td>1.0</td>\n",
              "      <td>-1.358354</td>\n",
              "      <td>-1.340163</td>\n",
              "      <td>1.773209</td>\n",
              "      <td>0.379780</td>\n",
              "      <td>-0.503198</td>\n",
              "      <td>1.800499</td>\n",
              "      <td>0.791461</td>\n",
              "      <td>0.247676</td>\n",
              "      <td>-1.514654</td>\n",
              "      <td>0.207643</td>\n",
              "      <td>0.624501</td>\n",
              "      <td>0.066084</td>\n",
              "      <td>0.717293</td>\n",
              "      <td>-0.165946</td>\n",
              "      <td>2.345865</td>\n",
              "      <td>-2.890083</td>\n",
              "      <td>1.109969</td>\n",
              "      <td>-0.121359</td>\n",
              "      <td>-2.261857</td>\n",
              "      <td>0.524980</td>\n",
              "      <td>0.247998</td>\n",
              "      <td>0.771679</td>\n",
              "      <td>0.909412</td>\n",
              "      <td>-0.689281</td>\n",
              "      <td>-0.327642</td>\n",
              "      <td>-0.139097</td>\n",
              "      <td>-0.055353</td>\n",
              "      <td>-0.059752</td>\n",
              "      <td>378.66</td>\n",
              "      <td>0</td>\n",
              "    </tr>\n",
              "    <tr>\n",
              "      <th>3</th>\n",
              "      <td>1.0</td>\n",
              "      <td>-0.966272</td>\n",
              "      <td>-0.185226</td>\n",
              "      <td>1.792993</td>\n",
              "      <td>-0.863291</td>\n",
              "      <td>-0.010309</td>\n",
              "      <td>1.247203</td>\n",
              "      <td>0.237609</td>\n",
              "      <td>0.377436</td>\n",
              "      <td>-1.387024</td>\n",
              "      <td>-0.054952</td>\n",
              "      <td>-0.226487</td>\n",
              "      <td>0.178228</td>\n",
              "      <td>0.507757</td>\n",
              "      <td>-0.287924</td>\n",
              "      <td>-0.631418</td>\n",
              "      <td>-1.059647</td>\n",
              "      <td>-0.684093</td>\n",
              "      <td>1.965775</td>\n",
              "      <td>-1.232622</td>\n",
              "      <td>-0.208038</td>\n",
              "      <td>-0.108300</td>\n",
              "      <td>0.005274</td>\n",
              "      <td>-0.190321</td>\n",
              "      <td>-1.175575</td>\n",
              "      <td>0.647376</td>\n",
              "      <td>-0.221929</td>\n",
              "      <td>0.062723</td>\n",
              "      <td>0.061458</td>\n",
              "      <td>123.50</td>\n",
              "      <td>0</td>\n",
              "    </tr>\n",
              "    <tr>\n",
              "      <th>4</th>\n",
              "      <td>2.0</td>\n",
              "      <td>-1.158233</td>\n",
              "      <td>0.877737</td>\n",
              "      <td>1.548718</td>\n",
              "      <td>0.403034</td>\n",
              "      <td>-0.407193</td>\n",
              "      <td>0.095921</td>\n",
              "      <td>0.592941</td>\n",
              "      <td>-0.270533</td>\n",
              "      <td>0.817739</td>\n",
              "      <td>0.753074</td>\n",
              "      <td>-0.822843</td>\n",
              "      <td>0.538196</td>\n",
              "      <td>1.345852</td>\n",
              "      <td>-1.119670</td>\n",
              "      <td>0.175121</td>\n",
              "      <td>-0.451449</td>\n",
              "      <td>-0.237033</td>\n",
              "      <td>-0.038195</td>\n",
              "      <td>0.803487</td>\n",
              "      <td>0.408542</td>\n",
              "      <td>-0.009431</td>\n",
              "      <td>0.798278</td>\n",
              "      <td>-0.137458</td>\n",
              "      <td>0.141267</td>\n",
              "      <td>-0.206010</td>\n",
              "      <td>0.502292</td>\n",
              "      <td>0.219422</td>\n",
              "      <td>0.215153</td>\n",
              "      <td>69.99</td>\n",
              "      <td>0</td>\n",
              "    </tr>\n",
              "  </tbody>\n",
              "</table>\n",
              "</div>"
            ],
            "text/plain": [
              "   Time        V1        V2        V3  ...       V27       V28  Amount  Class\n",
              "0   0.0 -1.359807 -0.072781  2.536347  ...  0.133558 -0.021053  149.62      0\n",
              "1   0.0  1.191857  0.266151  0.166480  ... -0.008983  0.014724    2.69      0\n",
              "2   1.0 -1.358354 -1.340163  1.773209  ... -0.055353 -0.059752  378.66      0\n",
              "3   1.0 -0.966272 -0.185226  1.792993  ...  0.062723  0.061458  123.50      0\n",
              "4   2.0 -1.158233  0.877737  1.548718  ...  0.219422  0.215153   69.99      0\n",
              "\n",
              "[5 rows x 31 columns]"
            ]
          },
          "metadata": {
            "tags": []
          },
          "execution_count": 101
        }
      ]
    },
    {
      "cell_type": "markdown",
      "metadata": {
        "id": "YBElHJ9oSVpC"
      },
      "source": [
        "## Visão geral dos dados\n",
        "\n",
        "Como dito na página dos dados no Kaggle, as colunas não possuem nome que caracterizem informações além de não prover nenhuma informação adicional, a fim de não divulgar mais informações confidenciais sobre os clientes ou procedimentos da empresa.\n",
        "\n",
        "As entradas possuem somente valores númericos, que foram calculados utilizando a técnica de transformação de dados chamada de PCA (Análise de Componentes Principais), técnica estatística que busca ressaltar padrões mais fortes de alterações em grandes quantidades de dados, mais informações sobre essa técnica podem ser encontradas [neste artigo](https://en.wikipedia.org/wiki/Principal_component_analysis)."
      ]
    },
    {
      "cell_type": "code",
      "metadata": {
        "colab": {
          "base_uri": "https://localhost:8080/"
        },
        "id": "o1P5f1qHosz3",
        "outputId": "729b3f4d-228e-43ad-d8c1-8476672b50ee"
      },
      "source": [
        "# Verificar total de entradas\n",
        "print(f'Total de entradas: {df.shape[0]}')\n",
        "\n",
        "# Verificar entradas nulas\n",
        "print(f'Total de entradas vazias: {df.isnull().sum().max()}')\n",
        "\n",
        "# Tipos de dados\n",
        "df.dtypes"
      ],
      "execution_count": 102,
      "outputs": [
        {
          "output_type": "stream",
          "text": [
            "Total de entradas: 284807\n",
            "Total de entradas vazias: 0\n"
          ],
          "name": "stdout"
        },
        {
          "output_type": "execute_result",
          "data": {
            "text/plain": [
              "Time      float64\n",
              "V1        float64\n",
              "V2        float64\n",
              "V3        float64\n",
              "V4        float64\n",
              "V5        float64\n",
              "V6        float64\n",
              "V7        float64\n",
              "V8        float64\n",
              "V9        float64\n",
              "V10       float64\n",
              "V11       float64\n",
              "V12       float64\n",
              "V13       float64\n",
              "V14       float64\n",
              "V15       float64\n",
              "V16       float64\n",
              "V17       float64\n",
              "V18       float64\n",
              "V19       float64\n",
              "V20       float64\n",
              "V21       float64\n",
              "V22       float64\n",
              "V23       float64\n",
              "V24       float64\n",
              "V25       float64\n",
              "V26       float64\n",
              "V27       float64\n",
              "V28       float64\n",
              "Amount    float64\n",
              "Class       int64\n",
              "dtype: object"
            ]
          },
          "metadata": {
            "tags": []
          },
          "execution_count": 102
        }
      ]
    },
    {
      "cell_type": "code",
      "metadata": {
        "colab": {
          "base_uri": "https://localhost:8080/",
          "height": 304
        },
        "id": "bFsyhLyYpGGw",
        "outputId": "74251c1a-552e-4793-fc21-0ec810ad7edf"
      },
      "source": [
        "# Vendo descrição dos dados\n",
        "df.describe()"
      ],
      "execution_count": 103,
      "outputs": [
        {
          "output_type": "execute_result",
          "data": {
            "text/html": [
              "<div>\n",
              "<style scoped>\n",
              "    .dataframe tbody tr th:only-of-type {\n",
              "        vertical-align: middle;\n",
              "    }\n",
              "\n",
              "    .dataframe tbody tr th {\n",
              "        vertical-align: top;\n",
              "    }\n",
              "\n",
              "    .dataframe thead th {\n",
              "        text-align: right;\n",
              "    }\n",
              "</style>\n",
              "<table border=\"1\" class=\"dataframe\">\n",
              "  <thead>\n",
              "    <tr style=\"text-align: right;\">\n",
              "      <th></th>\n",
              "      <th>Time</th>\n",
              "      <th>V1</th>\n",
              "      <th>V2</th>\n",
              "      <th>V3</th>\n",
              "      <th>V4</th>\n",
              "      <th>V5</th>\n",
              "      <th>V6</th>\n",
              "      <th>V7</th>\n",
              "      <th>V8</th>\n",
              "      <th>V9</th>\n",
              "      <th>V10</th>\n",
              "      <th>V11</th>\n",
              "      <th>V12</th>\n",
              "      <th>V13</th>\n",
              "      <th>V14</th>\n",
              "      <th>V15</th>\n",
              "      <th>V16</th>\n",
              "      <th>V17</th>\n",
              "      <th>V18</th>\n",
              "      <th>V19</th>\n",
              "      <th>V20</th>\n",
              "      <th>V21</th>\n",
              "      <th>V22</th>\n",
              "      <th>V23</th>\n",
              "      <th>V24</th>\n",
              "      <th>V25</th>\n",
              "      <th>V26</th>\n",
              "      <th>V27</th>\n",
              "      <th>V28</th>\n",
              "      <th>Amount</th>\n",
              "      <th>Class</th>\n",
              "    </tr>\n",
              "  </thead>\n",
              "  <tbody>\n",
              "    <tr>\n",
              "      <th>count</th>\n",
              "      <td>284807.000000</td>\n",
              "      <td>2.848070e+05</td>\n",
              "      <td>2.848070e+05</td>\n",
              "      <td>2.848070e+05</td>\n",
              "      <td>2.848070e+05</td>\n",
              "      <td>2.848070e+05</td>\n",
              "      <td>2.848070e+05</td>\n",
              "      <td>2.848070e+05</td>\n",
              "      <td>2.848070e+05</td>\n",
              "      <td>2.848070e+05</td>\n",
              "      <td>2.848070e+05</td>\n",
              "      <td>2.848070e+05</td>\n",
              "      <td>2.848070e+05</td>\n",
              "      <td>2.848070e+05</td>\n",
              "      <td>2.848070e+05</td>\n",
              "      <td>2.848070e+05</td>\n",
              "      <td>2.848070e+05</td>\n",
              "      <td>2.848070e+05</td>\n",
              "      <td>2.848070e+05</td>\n",
              "      <td>2.848070e+05</td>\n",
              "      <td>2.848070e+05</td>\n",
              "      <td>2.848070e+05</td>\n",
              "      <td>2.848070e+05</td>\n",
              "      <td>2.848070e+05</td>\n",
              "      <td>2.848070e+05</td>\n",
              "      <td>2.848070e+05</td>\n",
              "      <td>2.848070e+05</td>\n",
              "      <td>2.848070e+05</td>\n",
              "      <td>2.848070e+05</td>\n",
              "      <td>284807.000000</td>\n",
              "      <td>284807.000000</td>\n",
              "    </tr>\n",
              "    <tr>\n",
              "      <th>mean</th>\n",
              "      <td>94813.859575</td>\n",
              "      <td>3.919560e-15</td>\n",
              "      <td>5.688174e-16</td>\n",
              "      <td>-8.769071e-15</td>\n",
              "      <td>2.782312e-15</td>\n",
              "      <td>-1.552563e-15</td>\n",
              "      <td>2.010663e-15</td>\n",
              "      <td>-1.694249e-15</td>\n",
              "      <td>-1.927028e-16</td>\n",
              "      <td>-3.137024e-15</td>\n",
              "      <td>1.768627e-15</td>\n",
              "      <td>9.170318e-16</td>\n",
              "      <td>-1.810658e-15</td>\n",
              "      <td>1.693438e-15</td>\n",
              "      <td>1.479045e-15</td>\n",
              "      <td>3.482336e-15</td>\n",
              "      <td>1.392007e-15</td>\n",
              "      <td>-7.528491e-16</td>\n",
              "      <td>4.328772e-16</td>\n",
              "      <td>9.049732e-16</td>\n",
              "      <td>5.085503e-16</td>\n",
              "      <td>1.537294e-16</td>\n",
              "      <td>7.959909e-16</td>\n",
              "      <td>5.367590e-16</td>\n",
              "      <td>4.458112e-15</td>\n",
              "      <td>1.453003e-15</td>\n",
              "      <td>1.699104e-15</td>\n",
              "      <td>-3.660161e-16</td>\n",
              "      <td>-1.206049e-16</td>\n",
              "      <td>88.349619</td>\n",
              "      <td>0.001727</td>\n",
              "    </tr>\n",
              "    <tr>\n",
              "      <th>std</th>\n",
              "      <td>47488.145955</td>\n",
              "      <td>1.958696e+00</td>\n",
              "      <td>1.651309e+00</td>\n",
              "      <td>1.516255e+00</td>\n",
              "      <td>1.415869e+00</td>\n",
              "      <td>1.380247e+00</td>\n",
              "      <td>1.332271e+00</td>\n",
              "      <td>1.237094e+00</td>\n",
              "      <td>1.194353e+00</td>\n",
              "      <td>1.098632e+00</td>\n",
              "      <td>1.088850e+00</td>\n",
              "      <td>1.020713e+00</td>\n",
              "      <td>9.992014e-01</td>\n",
              "      <td>9.952742e-01</td>\n",
              "      <td>9.585956e-01</td>\n",
              "      <td>9.153160e-01</td>\n",
              "      <td>8.762529e-01</td>\n",
              "      <td>8.493371e-01</td>\n",
              "      <td>8.381762e-01</td>\n",
              "      <td>8.140405e-01</td>\n",
              "      <td>7.709250e-01</td>\n",
              "      <td>7.345240e-01</td>\n",
              "      <td>7.257016e-01</td>\n",
              "      <td>6.244603e-01</td>\n",
              "      <td>6.056471e-01</td>\n",
              "      <td>5.212781e-01</td>\n",
              "      <td>4.822270e-01</td>\n",
              "      <td>4.036325e-01</td>\n",
              "      <td>3.300833e-01</td>\n",
              "      <td>250.120109</td>\n",
              "      <td>0.041527</td>\n",
              "    </tr>\n",
              "    <tr>\n",
              "      <th>min</th>\n",
              "      <td>0.000000</td>\n",
              "      <td>-5.640751e+01</td>\n",
              "      <td>-7.271573e+01</td>\n",
              "      <td>-4.832559e+01</td>\n",
              "      <td>-5.683171e+00</td>\n",
              "      <td>-1.137433e+02</td>\n",
              "      <td>-2.616051e+01</td>\n",
              "      <td>-4.355724e+01</td>\n",
              "      <td>-7.321672e+01</td>\n",
              "      <td>-1.343407e+01</td>\n",
              "      <td>-2.458826e+01</td>\n",
              "      <td>-4.797473e+00</td>\n",
              "      <td>-1.868371e+01</td>\n",
              "      <td>-5.791881e+00</td>\n",
              "      <td>-1.921433e+01</td>\n",
              "      <td>-4.498945e+00</td>\n",
              "      <td>-1.412985e+01</td>\n",
              "      <td>-2.516280e+01</td>\n",
              "      <td>-9.498746e+00</td>\n",
              "      <td>-7.213527e+00</td>\n",
              "      <td>-5.449772e+01</td>\n",
              "      <td>-3.483038e+01</td>\n",
              "      <td>-1.093314e+01</td>\n",
              "      <td>-4.480774e+01</td>\n",
              "      <td>-2.836627e+00</td>\n",
              "      <td>-1.029540e+01</td>\n",
              "      <td>-2.604551e+00</td>\n",
              "      <td>-2.256568e+01</td>\n",
              "      <td>-1.543008e+01</td>\n",
              "      <td>0.000000</td>\n",
              "      <td>0.000000</td>\n",
              "    </tr>\n",
              "    <tr>\n",
              "      <th>25%</th>\n",
              "      <td>54201.500000</td>\n",
              "      <td>-9.203734e-01</td>\n",
              "      <td>-5.985499e-01</td>\n",
              "      <td>-8.903648e-01</td>\n",
              "      <td>-8.486401e-01</td>\n",
              "      <td>-6.915971e-01</td>\n",
              "      <td>-7.682956e-01</td>\n",
              "      <td>-5.540759e-01</td>\n",
              "      <td>-2.086297e-01</td>\n",
              "      <td>-6.430976e-01</td>\n",
              "      <td>-5.354257e-01</td>\n",
              "      <td>-7.624942e-01</td>\n",
              "      <td>-4.055715e-01</td>\n",
              "      <td>-6.485393e-01</td>\n",
              "      <td>-4.255740e-01</td>\n",
              "      <td>-5.828843e-01</td>\n",
              "      <td>-4.680368e-01</td>\n",
              "      <td>-4.837483e-01</td>\n",
              "      <td>-4.988498e-01</td>\n",
              "      <td>-4.562989e-01</td>\n",
              "      <td>-2.117214e-01</td>\n",
              "      <td>-2.283949e-01</td>\n",
              "      <td>-5.423504e-01</td>\n",
              "      <td>-1.618463e-01</td>\n",
              "      <td>-3.545861e-01</td>\n",
              "      <td>-3.171451e-01</td>\n",
              "      <td>-3.269839e-01</td>\n",
              "      <td>-7.083953e-02</td>\n",
              "      <td>-5.295979e-02</td>\n",
              "      <td>5.600000</td>\n",
              "      <td>0.000000</td>\n",
              "    </tr>\n",
              "    <tr>\n",
              "      <th>50%</th>\n",
              "      <td>84692.000000</td>\n",
              "      <td>1.810880e-02</td>\n",
              "      <td>6.548556e-02</td>\n",
              "      <td>1.798463e-01</td>\n",
              "      <td>-1.984653e-02</td>\n",
              "      <td>-5.433583e-02</td>\n",
              "      <td>-2.741871e-01</td>\n",
              "      <td>4.010308e-02</td>\n",
              "      <td>2.235804e-02</td>\n",
              "      <td>-5.142873e-02</td>\n",
              "      <td>-9.291738e-02</td>\n",
              "      <td>-3.275735e-02</td>\n",
              "      <td>1.400326e-01</td>\n",
              "      <td>-1.356806e-02</td>\n",
              "      <td>5.060132e-02</td>\n",
              "      <td>4.807155e-02</td>\n",
              "      <td>6.641332e-02</td>\n",
              "      <td>-6.567575e-02</td>\n",
              "      <td>-3.636312e-03</td>\n",
              "      <td>3.734823e-03</td>\n",
              "      <td>-6.248109e-02</td>\n",
              "      <td>-2.945017e-02</td>\n",
              "      <td>6.781943e-03</td>\n",
              "      <td>-1.119293e-02</td>\n",
              "      <td>4.097606e-02</td>\n",
              "      <td>1.659350e-02</td>\n",
              "      <td>-5.213911e-02</td>\n",
              "      <td>1.342146e-03</td>\n",
              "      <td>1.124383e-02</td>\n",
              "      <td>22.000000</td>\n",
              "      <td>0.000000</td>\n",
              "    </tr>\n",
              "    <tr>\n",
              "      <th>75%</th>\n",
              "      <td>139320.500000</td>\n",
              "      <td>1.315642e+00</td>\n",
              "      <td>8.037239e-01</td>\n",
              "      <td>1.027196e+00</td>\n",
              "      <td>7.433413e-01</td>\n",
              "      <td>6.119264e-01</td>\n",
              "      <td>3.985649e-01</td>\n",
              "      <td>5.704361e-01</td>\n",
              "      <td>3.273459e-01</td>\n",
              "      <td>5.971390e-01</td>\n",
              "      <td>4.539234e-01</td>\n",
              "      <td>7.395934e-01</td>\n",
              "      <td>6.182380e-01</td>\n",
              "      <td>6.625050e-01</td>\n",
              "      <td>4.931498e-01</td>\n",
              "      <td>6.488208e-01</td>\n",
              "      <td>5.232963e-01</td>\n",
              "      <td>3.996750e-01</td>\n",
              "      <td>5.008067e-01</td>\n",
              "      <td>4.589494e-01</td>\n",
              "      <td>1.330408e-01</td>\n",
              "      <td>1.863772e-01</td>\n",
              "      <td>5.285536e-01</td>\n",
              "      <td>1.476421e-01</td>\n",
              "      <td>4.395266e-01</td>\n",
              "      <td>3.507156e-01</td>\n",
              "      <td>2.409522e-01</td>\n",
              "      <td>9.104512e-02</td>\n",
              "      <td>7.827995e-02</td>\n",
              "      <td>77.165000</td>\n",
              "      <td>0.000000</td>\n",
              "    </tr>\n",
              "    <tr>\n",
              "      <th>max</th>\n",
              "      <td>172792.000000</td>\n",
              "      <td>2.454930e+00</td>\n",
              "      <td>2.205773e+01</td>\n",
              "      <td>9.382558e+00</td>\n",
              "      <td>1.687534e+01</td>\n",
              "      <td>3.480167e+01</td>\n",
              "      <td>7.330163e+01</td>\n",
              "      <td>1.205895e+02</td>\n",
              "      <td>2.000721e+01</td>\n",
              "      <td>1.559499e+01</td>\n",
              "      <td>2.374514e+01</td>\n",
              "      <td>1.201891e+01</td>\n",
              "      <td>7.848392e+00</td>\n",
              "      <td>7.126883e+00</td>\n",
              "      <td>1.052677e+01</td>\n",
              "      <td>8.877742e+00</td>\n",
              "      <td>1.731511e+01</td>\n",
              "      <td>9.253526e+00</td>\n",
              "      <td>5.041069e+00</td>\n",
              "      <td>5.591971e+00</td>\n",
              "      <td>3.942090e+01</td>\n",
              "      <td>2.720284e+01</td>\n",
              "      <td>1.050309e+01</td>\n",
              "      <td>2.252841e+01</td>\n",
              "      <td>4.584549e+00</td>\n",
              "      <td>7.519589e+00</td>\n",
              "      <td>3.517346e+00</td>\n",
              "      <td>3.161220e+01</td>\n",
              "      <td>3.384781e+01</td>\n",
              "      <td>25691.160000</td>\n",
              "      <td>1.000000</td>\n",
              "    </tr>\n",
              "  </tbody>\n",
              "</table>\n",
              "</div>"
            ],
            "text/plain": [
              "                Time            V1  ...         Amount          Class\n",
              "count  284807.000000  2.848070e+05  ...  284807.000000  284807.000000\n",
              "mean    94813.859575  3.919560e-15  ...      88.349619       0.001727\n",
              "std     47488.145955  1.958696e+00  ...     250.120109       0.041527\n",
              "min         0.000000 -5.640751e+01  ...       0.000000       0.000000\n",
              "25%     54201.500000 -9.203734e-01  ...       5.600000       0.000000\n",
              "50%     84692.000000  1.810880e-02  ...      22.000000       0.000000\n",
              "75%    139320.500000  1.315642e+00  ...      77.165000       0.000000\n",
              "max    172792.000000  2.454930e+00  ...   25691.160000       1.000000\n",
              "\n",
              "[8 rows x 31 columns]"
            ]
          },
          "metadata": {
            "tags": []
          },
          "execution_count": 103
        }
      ]
    },
    {
      "cell_type": "markdown",
      "metadata": {
        "id": "AUJy4ilSUm5W"
      },
      "source": [
        "### Entradas\n",
        "\n",
        "Como verificado acima, temos um total de 284.807 entradas, sendo que todas estão preenchidas com dados. Além disso, todas as colunas possuem variáveis do tipo *float* ou *int*, o que facilita a análise."
      ]
    },
    {
      "cell_type": "code",
      "metadata": {
        "colab": {
          "base_uri": "https://localhost:8080/",
          "height": 421
        },
        "id": "Tn79OEJ8qERv",
        "outputId": "7010e5cf-ab8b-4fa5-cce7-21b60e865dd5"
      },
      "source": [
        "# Quantidade de entradas fraudulentas/não fraudulentas\n",
        "fig, ax = plt.subplots(figsize = (12,5))\n",
        "sns.countplot('Class', data=df, )\n",
        "ax.set_title('Distribuição dados')\n",
        "ax.set_xlabel('Não fraude / Fraude')\n",
        "ax.set_ylabel('Quantidade')\n",
        "\n",
        "# Ver porcentagem de entradas fraudulentas\n",
        "print('{:.4f}% de entradas referentes a dados fraudulento'.format(df[df.Class == 1].shape[0] / df.shape[0] * 100))"
      ],
      "execution_count": 104,
      "outputs": [
        {
          "output_type": "stream",
          "text": [
            "0.1727% de entradas referentes a dados fraudulento\n"
          ],
          "name": "stdout"
        },
        {
          "output_type": "stream",
          "text": [
            "/usr/local/lib/python3.7/dist-packages/seaborn/_decorators.py:43: FutureWarning: Pass the following variable as a keyword arg: x. From version 0.12, the only valid positional argument will be `data`, and passing other arguments without an explicit keyword will result in an error or misinterpretation.\n",
            "  FutureWarning\n"
          ],
          "name": "stderr"
        },
        {
          "output_type": "display_data",
          "data": {
            "image/png": "[encoded data removed]",
            "text/plain": [
              "<Figure size 864x360 with 1 Axes>"
            ]
          },
          "metadata": {
            "tags": [],
            "needs_background": "light"
          }
        }
      ]
    },
    {
      "cell_type": "markdown",
      "metadata": {
        "id": "ZPSgzWPNVmxu"
      },
      "source": [
        "### Distribuição dos dados\n",
        "\n",
        "Agora nós encaramos o primeiro problema, os dados são **extremamente desbalanceados**, cerca de 99,8% dos dados são referentes a transações não-fraudulentas, isso representa que a empresa tem 0,17% de transações fraudulentas (o que é bom), mas isso se torna um problema no caso da construção de um modelo de previsão, e por que exatamente isso é um problema?\n",
        "\n",
        "Como o objetivo desse projeto é **detectar fraudes**, o nosso modelo precisa de dados para \"alimentar\" esse padrão, como neste caso temos 1 única entrada fraudulenta para cada 1000 entradas, o nosso modelo tenderá a ficar enviesado a detectar entradas como não-fraudulentas.\n",
        "\n",
        "Vamos verificar a ocorrência disso na prática."
      ]
    },
    {
      "cell_type": "markdown",
      "metadata": {
        "id": "yAZchOuZWX8u"
      },
      "source": [
        "#### Padronização dos dados\n",
        "\n",
        "Como dito anteriormente os dados passaram pelo processo de transformação de dados chamado PCA, o que mantém o maior número de informações possível em uma dimensão menor, além disso as colunas não possuem nomes categóricos.\n",
        "\n",
        "Porém, as colunas *Time*, *Amount* e *Class* não passaram por esse processo e representam respectivamente o tempo de transação, a quantidade de dinheiro movimentado e se a transação foi fraudulenta ou não (sendo 0 não-fraudulenta e 1 fraudulenta). Por isso, devemos padronizar esses dados, devido ao fato de que o modelo que usaremos mais pra frente, o modelo de Regressão Logística, não aceita dados que não sejam padronizados (exceto a coluna *class* por serem valores únicos)."
      ]
    },
    {
      "cell_type": "code",
      "metadata": {
        "id": "oiw979QQrUxx"
      },
      "source": [
        "# Padronizar dados ainda não padronizados\n",
        "from sklearn.preprocessing import StandardScaler\n",
        "\n",
        "scaler = StandardScaler().fit(df[['Time', 'Amount']])\n",
        "df[['Time', 'Amount']] = scaler.transform(df[['Time', 'Amount']])"
      ],
      "execution_count": 105,
      "outputs": []
    },
    {
      "cell_type": "markdown",
      "metadata": {
        "id": "G3ZSnh5VZ8qL"
      },
      "source": [
        "### Criando um modelo desbalanceado\n",
        "\n",
        "Agora iremos criar um modelo de classificação com esses dados desbalanceados, para isso irei utilizar o modelo de regressão logística, apenas por demonstração, utilizando outros modelos de classificação como o Decision Tree deverá apresentar resultados parecidos.\n",
        "\n",
        "Só para relembrar, aqui as colunas (exceto a Class), serão nossas variáveis independentes, e a coluna Class a nossa variável dependente."
      ]
    },
    {
      "cell_type": "code",
      "metadata": {
        "id": "rTGQVV_NxFTJ"
      },
      "source": [
        "# Criar regressão logística com dados desbalanceados\n",
        "from sklearn.model_selection import train_test_split\n",
        "from sklearn.linear_model import LogisticRegression\n",
        "\n",
        "# Criando modelo\n",
        "model_logistic1 = LogisticRegression()\n",
        "\n",
        "# Separando dados\n",
        "X = df.drop('Class', axis = 1)\n",
        "y = df['Class']\n",
        "\n",
        "# Dividindo dados de treino e teste\n",
        "X_train, X_test, y_train, y_test = train_test_split(X, y)\n",
        "\n",
        "# Fit dos dados no modelo\n",
        "model_logistic1.fit(X_train, y_train)\n",
        "\n",
        "# Realizar predição com dados de teste\n",
        "y_pred1 = model_logistic1.predict(X_test)"
      ],
      "execution_count": 106,
      "outputs": []
    },
    {
      "cell_type": "code",
      "metadata": {
        "colab": {
          "base_uri": "https://localhost:8080/",
          "height": 463
        },
        "id": "NNgMHDtKyGbe",
        "outputId": "781cb67e-9c2b-4e62-9d33-05f2d3299808"
      },
      "source": [
        "# Criar report e matriz de confusão\n",
        "from sklearn.metrics import confusion_matrix\n",
        "from sklearn.metrics import classification_report\n",
        "\n",
        "# Report\n",
        "print(classification_report(y_test, y_pred1))\n",
        "\n",
        "# Heatmap matriz de confusão\n",
        "skplt.metrics.plot_confusion_matrix(y_test, y_pred1, normalize=True)"
      ],
      "execution_count": 107,
      "outputs": [
        {
          "output_type": "stream",
          "text": [
            "              precision    recall  f1-score   support\n",
            "\n",
            "           0       1.00      1.00      1.00     71077\n",
            "           1       0.92      0.66      0.77       125\n",
            "\n",
            "    accuracy                           1.00     71202\n",
            "   macro avg       0.96      0.83      0.89     71202\n",
            "weighted avg       1.00      1.00      1.00     71202\n",
            "\n"
          ],
          "name": "stdout"
        },
        {
          "output_type": "execute_result",
          "data": {
            "text/plain": [
              "<matplotlib.axes._subplots.AxesSubplot at 0x7f5405152b90>"
            ]
          },
          "metadata": {
            "tags": []
          },
          "execution_count": 107
        },
        {
          "output_type": "display_data",
          "data": {
            "image/png": "[encoded data removed]",
            "text/plain": [
              "<Figure size 432x288 with 2 Axes>"
            ]
          },
          "metadata": {
            "tags": [],
            "needs_background": "light"
          }
        }
      ]
    },
    {
      "cell_type": "markdown",
      "metadata": {
        "id": "wZDML92lajyG"
      },
      "source": [
        "#### Analisando os resultados\n",
        "\n",
        "Analisando o gráfico acima e o *classification report*, podemos observar que o modelo possui **100% de acurácia**, o problema é que no caso de dados desbalanceados, a acurácia não representa um métrica válida e na matriz de confusão nós podemos observar o porquê.\n",
        "\n",
        "Devido ao fato de mais de 99% dos dados serem referentes a transações nã-fraudulentas, o nosso modelo é muito bom em detectar esse tipo de operação, porém, esse não é o nosso objetivo, queremos justamente o contrário, análisar as operações que são fraudulentas, e para isso o nosso modelo deve sempre buscar um equilíbrio nos dados (50% de cada caso é o ideal), para que não ocorra um caso de *overfitting*, ou seja, que o modelo seja muito bom pra um caso específico de dado ou condição. \n",
        "\n",
        "Quanto a medição de acurácia, vamos análisar essa métrica: o nosso modelo possui mais de 99% de entradas não-fraudulentas, e como ele possui essa quantidade de dados desbalanceada, ele se tornou muito bom em prever esse tipo de operação, tendo um acerto de 100% no modelo de previsão, porém, ele **errou metade das operações fraudulentas**(o resultado pode ser alterado executando o modelo novamente, porém iremos discutir isso mais pra frente) quando tentamos prever esse tipo de operação, mas ainda obteve uma acurácia de 100%, porque esse tipo de operação é quase insignificante perante o total de dados.\n",
        "\n",
        "Para medir esse tipo de modelo, onde os dados são desbalanceados, a medida de Area Under Curve (AUC) da curva ROC pode ser uma boa escolha, já que ele avalia a classificação de modelos de classificação binários (que tenham resultado sim/não). Podemos verificar essa precisão através da função abaixo:"
      ]
    },
    {
      "cell_type": "code",
      "metadata": {
        "colab": {
          "base_uri": "https://localhost:8080/"
        },
        "id": "Lv47vGWga4B2",
        "outputId": "9640fd33-507a-4fbf-a3ee-b80c817093eb"
      },
      "source": [
        "# Medindo a Area Under Curve\n",
        "print('AUC: {:.4f}\\n'.format(roc_auc_score(y_test, y_pred1)))"
      ],
      "execution_count": 108,
      "outputs": [
        {
          "output_type": "stream",
          "text": [
            "AUC: 0.8320\n",
            "\n"
          ],
          "name": "stdout"
        }
      ]
    },
    {
      "cell_type": "markdown",
      "metadata": {
        "id": "yZyoBm1LiPIS"
      },
      "source": [
        "Como vimos acima, a AUC foi menor que a acurácia do modelo, porém devemos fazer ainda uma análise mais profunda dos resultados que obtemos.\n",
        "\n",
        "Se você trabalha em um banco e quer prever frauder, qual seria o pior cenário? Seria não detectar as fraudes, o que prejudicaria os clientes e o próprio banco/cooperativa. Nesse caso podemos observar que temos quase metade de fraudes não detectadas (o número varia conforme execução do modelo), chegando a errar até 99% das vezes em alguns modelos.\n",
        "\n",
        "Logo, o nosso objetivo seria ter o mínimo de falsos negativos possível, pra isso podemos até ter um número superior de falsos positivos, visto que detectar uma operação normal como fraude não necessariamente prejudica alguém, além do transtorno habitual de liberar o cartão, que é muito mais fácil que estornar uma compra fraudulenta.\n",
        "\n",
        "Realizando o balanceamento dos dados, buscamos minimizar os falsos negativos, sendo esse o nosso objetivo central.\n",
        "\n",
        "Para realizar esse balanceamento, iremos utilizar uma técnica chamada de **Under Sampling** que iguala o número de entradas fraudulentas as não fraudulentas."
      ]
    },
    {
      "cell_type": "markdown",
      "metadata": {
        "id": "9FnRVf8fj3ns"
      },
      "source": [
        "### Criando um modelo balanceado\n",
        "#### Under Sampling"
      ]
    },
    {
      "cell_type": "code",
      "metadata": {
        "colab": {
          "base_uri": "https://localhost:8080/"
        },
        "id": "MJZyg5VW1hs0",
        "outputId": "83973973-d65c-4048-bc34-d456360c1d47"
      },
      "source": [
        "# Under sampling\n",
        "from imblearn.under_sampling import RandomUnderSampler\n",
        "\n",
        "rus = RandomUnderSampler();\n",
        "X_res, y_res = rus.fit_sample(X_train, y_train)"
      ],
      "execution_count": 109,
      "outputs": [
        {
          "output_type": "stream",
          "text": [
            "/usr/local/lib/python3.7/dist-packages/sklearn/utils/deprecation.py:87: FutureWarning: Function safe_indexing is deprecated; safe_indexing is deprecated in version 0.22 and will be removed in version 0.24.\n",
            "  warnings.warn(msg, category=FutureWarning)\n"
          ],
          "name": "stderr"
        }
      ]
    },
    {
      "cell_type": "markdown",
      "metadata": {
        "id": "G8u1TYIgj_B1"
      },
      "source": [
        "Para observarmos a diferença de dados desbalanceados/balanceados, vamos observar uma matriz de correlação com os dois tipos de dados."
      ]
    },
    {
      "cell_type": "code",
      "metadata": {
        "colab": {
          "base_uri": "https://localhost:8080/",
          "height": 587
        },
        "id": "or5CGhnPFz3z",
        "outputId": "01716bce-022c-4ac2-b856-1541787f9449"
      },
      "source": [
        "# Correlação dos dados\n",
        "corr1 = X_train.corr()\n",
        "corr2 = pd.DataFrame(X_res).corr()\n",
        "\n",
        "# Plotar correlação\n",
        "fig, ax = plt.subplots(nrows=1, ncols=2, figsize = (18,8))\n",
        "fig.suptitle('Correlação entre os dados')\n",
        "\n",
        "sns.heatmap(corr1, xticklabels=corr1.columns, yticklabels=corr1.columns, cmap='coolwarm', ax=ax[0])\n",
        "ax[0].set_title('Desbalanceado')\n",
        "\n",
        "sns.heatmap(corr2, xticklabels=corr1.columns, yticklabels=corr1.columns, cmap='coolwarm', ax=ax[1])\n",
        "ax[1].set_title('Balanceado')\n"
      ],
      "execution_count": 110,
      "outputs": [
        {
          "output_type": "execute_result",
          "data": {
            "text/plain": [
              "Text(0.5, 1.0, 'Balanceado')"
            ]
          },
          "metadata": {
            "tags": []
          },
          "execution_count": 110
        },
        {
          "output_type": "display_data",
          "data": {
            "image/png": "[encoded data removed]",
            "text/plain": [
              "<Figure size 1296x576 with 4 Axes>"
            ]
          },
          "metadata": {
            "tags": [],
            "needs_background": "light"
          }
        }
      ]
    },
    {
      "cell_type": "markdown",
      "metadata": {
        "id": "fW9nFo3-kKj5"
      },
      "source": [
        "### Definição dos métodos de classificação\n",
        "\n",
        "Nesse projeto, além de criar o modelo de classificação para detectar as fraudes, irei comparar dois dos principais modelos de classificação, sendo eles os modelos de *Regressão Logística* e *Decision Tree*. Ambos possuem métodos diferentes para classificar os dados e ao final iremos comparar ambos com os dados desbalanceados."
      ]
    },
    {
      "cell_type": "markdown",
      "metadata": {
        "id": "MY3Jr_OMkoNd"
      },
      "source": [
        "#### Método 1 - Regressão Logística\n",
        "\n",
        "Agora que temos os dados balanceados e padronizados, podemos realizar o fit dos dados nos respectivos modelos e realizar o predict para comparar os resultado. O primeiro modelo que iremos fazer isso será o de Regressão Logística."
      ]
    },
    {
      "cell_type": "code",
      "metadata": {
        "id": "UJmXqV0t17kC"
      },
      "source": [
        "# Método 1 - Regressão Logística\n",
        "# Criando modelo\n",
        "model_logistic2 = LogisticRegression()\n",
        "\n",
        "# Fit de dados balanceados\n",
        "model_logistic2.fit(X_res, y_res)\n",
        "\n",
        "# Fazer predição com os dados balanceados\n",
        "y_pred2 = model_logistic2.predict(X_test)"
      ],
      "execution_count": 111,
      "outputs": []
    },
    {
      "cell_type": "markdown",
      "metadata": {
        "id": "nOExNdbKk1Hz"
      },
      "source": [
        "Agora podemos criar um report e plotar novamente uma matriz de confusão para comparar os resultados."
      ]
    },
    {
      "cell_type": "code",
      "metadata": {
        "colab": {
          "base_uri": "https://localhost:8080/",
          "height": 497
        },
        "id": "FWBjO1593L5s",
        "outputId": "58d12fc3-8e62-4ef2-fd54-33c4f89d2036"
      },
      "source": [
        "# Criar report2 e matriz de confusão2\n",
        "\n",
        "# Report\n",
        "print(classification_report(y_test, y_pred2))\n",
        "print('AUC: {:.4f}\\n'.format(roc_auc_score(y_test, y_pred2)))\n",
        "\n",
        "# Heatmap matriz de confusão\n",
        "skplt.metrics.plot_confusion_matrix(y_test, y_pred2, normalize=True)"
      ],
      "execution_count": 112,
      "outputs": [
        {
          "output_type": "stream",
          "text": [
            "              precision    recall  f1-score   support\n",
            "\n",
            "           0       1.00      0.97      0.98     71077\n",
            "           1       0.05      0.94      0.09       125\n",
            "\n",
            "    accuracy                           0.97     71202\n",
            "   macro avg       0.52      0.96      0.54     71202\n",
            "weighted avg       1.00      0.97      0.98     71202\n",
            "\n",
            "AUC: 0.9555\n",
            "\n"
          ],
          "name": "stdout"
        },
        {
          "output_type": "execute_result",
          "data": {
            "text/plain": [
              "<matplotlib.axes._subplots.AxesSubplot at 0x7f5404e99bd0>"
            ]
          },
          "metadata": {
            "tags": []
          },
          "execution_count": 112
        },
        {
          "output_type": "display_data",
          "data": {
            "image/png": "[encoded data removed]",
            "text/plain": [
              "<Figure size 432x288 with 2 Axes>"
            ]
          },
          "metadata": {
            "tags": [],
            "needs_background": "light"
          }
        }
      ]
    },
    {
      "cell_type": "markdown",
      "metadata": {
        "id": "TpFlWXHTk_Ya"
      },
      "source": [
        "Como podemos ver, com os dados balanceados temos uma minimização da ocorrência de falsos negativos, que é o nosso objetivo principal, antes de discutirmos esses resultados, vamos criar o modelo 2."
      ]
    },
    {
      "cell_type": "markdown",
      "metadata": {
        "id": "Mt8YNHE-lNSf"
      },
      "source": [
        "#### Método 2 - Decision Tree\n",
        "\n",
        "Agora iremos criar o segundo modelo, que utilizará o método de classificação através de Decision Tree (Árvore de Classificação)."
      ]
    },
    {
      "cell_type": "code",
      "metadata": {
        "id": "iFs6-fSO4xs4"
      },
      "source": [
        "# Método 2 - Decision Tree\n",
        "from sklearn.tree import DecisionTreeClassifier\n",
        "\n",
        "model_dtree = DecisionTreeClassifier(max_depth=2, criterion='entropy')\n",
        "\n",
        "# Fit dos dados no modelo\n",
        "model_dtree.fit(X_res, y_res);\n",
        "\n",
        "# Fazer predict com decision tree\n",
        "y_pred3 = model_dtree.predict(X_test)"
      ],
      "execution_count": 113,
      "outputs": []
    },
    {
      "cell_type": "markdown",
      "metadata": {
        "id": "BBv4dbBSlW_w"
      },
      "source": [
        "Novamente podemos criar um report e uma nova matriz de confusão para compararmos os resultados."
      ]
    },
    {
      "cell_type": "code",
      "metadata": {
        "colab": {
          "base_uri": "https://localhost:8080/",
          "height": 497
        },
        "id": "L8t1EBEI8V26",
        "outputId": "963cbc54-6aa4-42e4-9c59-94ad33f88f7c"
      },
      "source": [
        "# Criar report\n",
        "\n",
        "# Report\n",
        "print(classification_report(y_test, y_pred3))\n",
        "print('AUC: {:.4f}\\n'.format(roc_auc_score(y_test, y_pred3)))\n",
        "\n",
        "# Heatmap matriz de  confusão\n",
        "skplt.metrics.plot_confusion_matrix(y_test, y_pred3, normalize=True)"
      ],
      "execution_count": 114,
      "outputs": [
        {
          "output_type": "stream",
          "text": [
            "              precision    recall  f1-score   support\n",
            "\n",
            "           0       1.00      0.90      0.95     71077\n",
            "           1       0.02      0.94      0.03       125\n",
            "\n",
            "    accuracy                           0.90     71202\n",
            "   macro avg       0.51      0.92      0.49     71202\n",
            "weighted avg       1.00      0.90      0.94     71202\n",
            "\n",
            "AUC: 0.9208\n",
            "\n"
          ],
          "name": "stdout"
        },
        {
          "output_type": "execute_result",
          "data": {
            "text/plain": [
              "<matplotlib.axes._subplots.AxesSubplot at 0x7f5404e39fd0>"
            ]
          },
          "metadata": {
            "tags": []
          },
          "execution_count": 114
        },
        {
          "output_type": "display_data",
          "data": {
            "image/png": "[encoded data removed]",
            "text/plain": [
              "<Figure size 432x288 with 2 Axes>"
            ]
          },
          "metadata": {
            "tags": [],
            "needs_background": "light"
          }
        }
      ]
    },
    {
      "cell_type": "markdown",
      "metadata": {
        "id": "ZoAa09Huldx8"
      },
      "source": [
        "Como podemos observar, novamente conseguimos minimizar os falsos negativos, além de obter uma AUC superior\n",
        "\n",
        "Criados os dois modelos utilizando os dados balanceados, podemos comparar esses resultados."
      ]
    },
    {
      "cell_type": "markdown",
      "metadata": {
        "id": "aA4Ene7znCIi"
      },
      "source": [
        "### Comparando os resultados\n",
        "\n",
        "Agora nós temos 3 modelos diferentes, um utilizando os dados brutos e desbalanceados, e dois utilizando dados balanceados e métodos de classificação diferentes, podemos facilmente comparar os resultados e escolher o melhor modelo.\n",
        "\n",
        "Para isso, iremos utilizar como apoio um gráfico horizontal que compara os três modelos, o que facilita a nossa decisão do melhor modelo."
      ]
    },
    {
      "cell_type": "code",
      "metadata": {
        "colab": {
          "base_uri": "https://localhost:8080/",
          "height": 476
        },
        "id": "3pvLaTgG8yMn",
        "outputId": "b91f0218-24d3-432e-b742-6f98b0c3fedb"
      },
      "source": [
        "# Comparação modelos\n",
        "fig = plt.figure(figsize=(20,8))\n",
        "\n",
        "ax1 = fig.add_subplot(131)\n",
        "skplt.metrics.plot_confusion_matrix(y_test, y_pred1, normalize=True, ax=ax1)\n",
        "\n",
        "ax2 = fig.add_subplot(132)\n",
        "skplt.metrics.plot_confusion_matrix(y_test, y_pred2, normalize=True, ax=ax2)\n",
        "\n",
        "ax3 = fig.add_subplot(133)\n",
        "skplt.metrics.plot_confusion_matrix(y_test, y_pred3, normalize=True, ax=ax3)\n",
        "\n",
        "ax1.title.set_text('Dados não balanceados')\n",
        "ax2.title.set_text('Regressão Logística')\n",
        "ax3.title.set_text('Decision Tree')"
      ],
      "execution_count": 115,
      "outputs": [
        {
          "output_type": "display_data",
          "data": {
            "image/png": "[encoded data removed]",
            "text/plain": [
              "<Figure size 1440x576 with 6 Axes>"
            ]
          },
          "metadata": {
            "tags": [],
            "needs_background": "light"
          }
        }
      ]
    },
    {
      "cell_type": "markdown",
      "metadata": {
        "id": "g5jRvi8TnnsZ"
      },
      "source": [
        "Abaixo vou colocar alguns insights que podem ser tirados dos três modelos, afim de ajudar no processo de decisão:\n",
        "\n",
        "- Dados desbalanceados acabam com a eficácia do modelo, fazendo com que o modelo se torne altamente enviesado.\n",
        "\n",
        "- Os modelos que utilizam dados balanceados tem acurácia parecida quanto a prever falsos negativos, porém o modelo que utiliza a regressão logística é superior em prever falsos positivos, o que pode ser usado em consideração na hora de escolher o modelo definitivo.\n",
        "\n",
        "Além de avaliar os modelos, uma alternativa que pode ser avaliada na tomada de decisão é a coleta de mais dados (principalmente de transações fraudulentas) para alimentar o modelo, aumentando sua precisão na detecção das fraudes. O processo de melhoria do modelo deve ser constante principalmente por se tratar de procedimentos que prejudicam o cliente, o que impacta diretamente na imagem da empresa.\n",
        "\n",
        "Os dados foram disponibilizados após sofrerem transformações, o que facilitou o processo, porém também foram disponibilizados sem muitas informações, como o que cada coluna representa, o que poderia ser utilizado como critério na hora da construção do modelo."
      ]
    }
  ]
}