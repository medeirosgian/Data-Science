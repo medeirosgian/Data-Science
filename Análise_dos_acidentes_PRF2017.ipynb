{
  "nbformat": 4,
  "nbformat_minor": 0,
  "metadata": {
    "colab": {
      "name": "Análise dos acidentes PRF2017.ipynb",
      "provenance": [],
      "toc_visible": true,
      "authorship_tag": "ABX9TyNMkOYpkrNTxIH+WSAOwSyi",
      "include_colab_link": true
    },
    "kernelspec": {
      "name": "python3",
      "display_name": "Python 3"
    }
  },
  "cells": [
    {
      "cell_type": "markdown",
      "metadata": {
        "id": "view-in-github",
        "colab_type": "text"
      },
      "source": [
        "<a href=\"https://colab.research.google.com/github/medeirosgian/Data-Science/blob/main/An%C3%A1lise_dos_acidentes_PRF2017.ipynb\" target=\"_parent\"><img src=\"https://colab.research.google.com/assets/colab-badge.svg\" alt=\"Open In Colab\"/></a>"
      ]
    },
    {
      "cell_type": "markdown",
      "metadata": {
        "id": "52TLZNroEYBm"
      },
      "source": [
        "# **Análise dos dados de acidentes - PRF 2017**\r\n",
        "Existente desde 1928, a Polícia Rodoviária Federal (PRF) é o orgão responsável pelo policiamento ostensivo das rodovias federais brasileiras, podendo requisitar apoio das instituições públicas necessárias para o serviço.\r\n",
        "\r\n",
        "Assim como diversos órgãos públicos, a PRF divulga todo ano os dados referentes as suas atuações, neste caso, analisaremos os dados de acidentes em rodovias federais referentes ao ano de 2017.\r\n",
        "\r\n",
        "<img alt=\"Policia Rodoviaria Federal\" width=\"50%\" align=\"middle\" src=\"http://nova89.com.br/wp-content/uploads/2018/11/policia-rodoviaria-federal.jpg\">\r\n",
        "\r\n",
        "Os dados utilizados podem ser encontrados no [site do Kaggle](https://www.kaggle.com/marcuscosta/an-lise-base-acidentes-prf-ano-2017), o arquivo antes de ser analisado passou por uma correção devido a incompatibilidade de encodificação com o qual foi feito, arrumando somente os erros de digitação, nada que altere a análise."
      ]
    },
    {
      "cell_type": "markdown",
      "metadata": {
        "id": "_ev3D8xKIGcN"
      },
      "source": [
        "**Nesta análise iremos utilizar os dados referente a todo território brasileiro, tentando responder algumas questões utilizando o apoio dos dados**"
      ]
    },
    {
      "cell_type": "markdown",
      "metadata": {
        "id": "ntnfYlqlIQl3"
      },
      "source": [
        "# Obtenção dos Dados\r\n",
        "\r\n",
        "Todos os dados utilizados nesta análise podem ser obtidos pelo site do [Kaggle](https://www.kaggle.com/marcuscosta/an-lise-base-acidentes-prf-ano-2017).\r\n",
        "\r\n",
        "Para a análise será utilizado um único arquivo disponível no site:\r\n",
        "- datatran2017.csv"
      ]
    },
    {
      "cell_type": "code",
      "metadata": {
        "id": "BLPO7og4Mb49"
      },
      "source": [
        "# Import das bibliotecas necessárias para a visualização dos dados\r\n",
        "\r\n",
        "import pandas as pd\r\n",
        "import matplotlib.pyplot as plt\r\n",
        "import seaborn as sns"
      ],
      "execution_count": null,
      "outputs": []
    },
    {
      "cell_type": "code",
      "metadata": {
        "id": "bij-w4FhNs0M"
      },
      "source": [
        "# Import do arquivo datatran2017.csv para um DataFrame\r\n",
        "\r\n",
        "df = pd.read_csv('/content/datatran2017.csv', encoding='utf8', sep= ';')"
      ],
      "execution_count": null,
      "outputs": []
    },
    {
      "cell_type": "markdown",
      "metadata": {
        "id": "zteW9OXaYARc"
      },
      "source": [
        "# Análise Inicial\r\n",
        "\r\n",
        "Essa etapa tem por objetivo criar uma consciência sobre os dados disponíveis no DataFrame, para isso vamos descrever melhor cada entrada:\r\n",
        "\r\n",
        "**Dicionário das Variáveis**\r\n",
        "\r\n",
        "- data_inversa = Data da ocorrência (inversa).\r\n",
        "- uf = Unidade Federativa da ocorrência.\r\n",
        "- br = Número de identificação da rodovia em que aconteceu o acidente.\r\n",
        "- municipio = Município onde ocorreu o acidente\r\n",
        "- causa_acidente = O que ocasionou o acidente\r\n",
        "- tipo_acidente = Qual o tipo do acidente\r\n",
        "- classificacao_acidente = Se houve vítimas ou não no acidente\r\n",
        "- fase_dia = Em que fase do dia o acidente ocorreu\r\n",
        "- sentido_via = Se a via era crescente ou decrescente\r\n",
        "- condicao_meteorologica = Qual o clima no momento do acidente\r\n",
        "- tipo_pista = Qual tipo de pista o acidente ocorreu (duplicada, normal)\r\n",
        "- tracado_via = Qual o traçado da via no local do acidente\r\n",
        "- latitude e longitude = Localidade do acidente\r\n",
        "- pessoas, mortos, feridos, ilesos, ignorados e veículos = Envolvidos no acidente\r\n",
        "\r\n",
        "As colunas *id*, *dia_semana*, *km* e *uso_solo* foram removidas por não impactarem na análise.\r\n",
        "\r\n",
        "Antes de continuar a análise, vamos dar uma olhada em como os dados se parecem, visualizando as 5 primeiras entradas.\r\n"
      ]
    },
    {
      "cell_type": "code",
      "metadata": {
        "colab": {
          "base_uri": "https://localhost:8080/",
          "height": 366
        },
        "id": "3mTnenXoNydC",
        "outputId": "65704902-384e-474a-e1eb-e635c058677a"
      },
      "source": [
        "# Verificar as 5 primeiras entradas do DataFrame\r\n",
        "\r\n",
        "df.head()"
      ],
      "execution_count": null,
      "outputs": [
        {
          "output_type": "execute_result",
          "data": {
            "text/html": [
              "<div>\n",
              "<style scoped>\n",
              "    .dataframe tbody tr th:only-of-type {\n",
              "        vertical-align: middle;\n",
              "    }\n",
              "\n",
              "    .dataframe tbody tr th {\n",
              "        vertical-align: top;\n",
              "    }\n",
              "\n",
              "    .dataframe thead th {\n",
              "        text-align: right;\n",
              "    }\n",
              "</style>\n",
              "<table border=\"1\" class=\"dataframe\">\n",
              "  <thead>\n",
              "    <tr style=\"text-align: right;\">\n",
              "      <th></th>\n",
              "      <th>data_inversa</th>\n",
              "      <th>dia_semana</th>\n",
              "      <th>horario</th>\n",
              "      <th>uf</th>\n",
              "      <th>br</th>\n",
              "      <th>municipio</th>\n",
              "      <th>causa_acidente</th>\n",
              "      <th>tipo_acidente</th>\n",
              "      <th>classificacao_acidente</th>\n",
              "      <th>fase_dia</th>\n",
              "      <th>sentido_via</th>\n",
              "      <th>condicao_metereologica</th>\n",
              "      <th>tipo_pista</th>\n",
              "      <th>tracado_via</th>\n",
              "      <th>latitude</th>\n",
              "      <th>longitude</th>\n",
              "      <th>pessoas</th>\n",
              "      <th>mortos</th>\n",
              "      <th>feridos_leves</th>\n",
              "      <th>feridos_graves</th>\n",
              "      <th>feridos</th>\n",
              "      <th>ilesos</th>\n",
              "      <th>ignorados</th>\n",
              "      <th>veiculos</th>\n",
              "    </tr>\n",
              "  </thead>\n",
              "  <tbody>\n",
              "    <tr>\n",
              "      <th>0</th>\n",
              "      <td>01/01/2017</td>\n",
              "      <td>domingo</td>\n",
              "      <td>00:00:00</td>\n",
              "      <td>PR</td>\n",
              "      <td>376.0</td>\n",
              "      <td>PARANAVAI                                     ...</td>\n",
              "      <td>Fenomenos da Natureza                         ...</td>\n",
              "      <td>Queda de Ocupante de Veiculo                  ...</td>\n",
              "      <td>Com Vitimas Feridas</td>\n",
              "      <td>Plena Noite</td>\n",
              "      <td>Crescente</td>\n",
              "      <td>Chuva</td>\n",
              "      <td>Simples</td>\n",
              "      <td>Reta</td>\n",
              "      <td>-2309880731</td>\n",
              "      <td>-5238789369</td>\n",
              "      <td>1</td>\n",
              "      <td>0</td>\n",
              "      <td>0</td>\n",
              "      <td>1</td>\n",
              "      <td>1</td>\n",
              "      <td>0</td>\n",
              "      <td>1</td>\n",
              "      <td>1</td>\n",
              "    </tr>\n",
              "    <tr>\n",
              "      <th>1</th>\n",
              "      <td>01/01/2017</td>\n",
              "      <td>domingo</td>\n",
              "      <td>00:01:00</td>\n",
              "      <td>SC</td>\n",
              "      <td>101.0</td>\n",
              "      <td>PALHOCA                                       ...</td>\n",
              "      <td>Falta de Atencao do Condutor                  ...</td>\n",
              "      <td>Colisao com objeto estatico                   ...</td>\n",
              "      <td>Sem Vitimas</td>\n",
              "      <td>Plena Noite</td>\n",
              "      <td>Crescente</td>\n",
              "      <td>Chuva</td>\n",
              "      <td>Dupla</td>\n",
              "      <td>Curva</td>\n",
              "      <td>-278101</td>\n",
              "      <td>-486357</td>\n",
              "      <td>1</td>\n",
              "      <td>0</td>\n",
              "      <td>0</td>\n",
              "      <td>0</td>\n",
              "      <td>0</td>\n",
              "      <td>1</td>\n",
              "      <td>1</td>\n",
              "      <td>1</td>\n",
              "    </tr>\n",
              "    <tr>\n",
              "      <th>2</th>\n",
              "      <td>01/01/2017</td>\n",
              "      <td>domingo</td>\n",
              "      <td>00:00:00</td>\n",
              "      <td>PR</td>\n",
              "      <td>153.0</td>\n",
              "      <td>SANTO ANTONIO DA PLATINA                      ...</td>\n",
              "      <td>Animais na Pista                              ...</td>\n",
              "      <td>Capotamento                                   ...</td>\n",
              "      <td>Com Vitimas Feridas</td>\n",
              "      <td>Plena Noite</td>\n",
              "      <td>Decrescente</td>\n",
              "      <td>Garoa/Chuvisco</td>\n",
              "      <td>Simples</td>\n",
              "      <td>Reta</td>\n",
              "      <td>-2336951985</td>\n",
              "      <td>30993513107</td>\n",
              "      <td>2</td>\n",
              "      <td>0</td>\n",
              "      <td>2</td>\n",
              "      <td>0</td>\n",
              "      <td>2</td>\n",
              "      <td>0</td>\n",
              "      <td>1</td>\n",
              "      <td>1</td>\n",
              "    </tr>\n",
              "    <tr>\n",
              "      <th>3</th>\n",
              "      <td>01/01/2017</td>\n",
              "      <td>domingo</td>\n",
              "      <td>00:00:00</td>\n",
              "      <td>GO</td>\n",
              "      <td>153.0</td>\n",
              "      <td>ANAPOLIS                                      ...</td>\n",
              "      <td>Avaria no Pneu                                ...</td>\n",
              "      <td>Tombamento                                    ...</td>\n",
              "      <td>Com Vitimas Feridas</td>\n",
              "      <td>Plena Noite</td>\n",
              "      <td>Decrescente</td>\n",
              "      <td>Ceu Claro</td>\n",
              "      <td>Dupla</td>\n",
              "      <td>Reta</td>\n",
              "      <td>-1627473677</td>\n",
              "      <td>-4896908998</td>\n",
              "      <td>1</td>\n",
              "      <td>0</td>\n",
              "      <td>0</td>\n",
              "      <td>1</td>\n",
              "      <td>1</td>\n",
              "      <td>0</td>\n",
              "      <td>1</td>\n",
              "      <td>1</td>\n",
              "    </tr>\n",
              "    <tr>\n",
              "      <th>4</th>\n",
              "      <td>01/01/2017</td>\n",
              "      <td>domingo</td>\n",
              "      <td>00:00:00</td>\n",
              "      <td>SC</td>\n",
              "      <td>280.0</td>\n",
              "      <td>CORUPA                                        ...</td>\n",
              "      <td>Ingestao de Alcool                            ...</td>\n",
              "      <td>Saida de leito carrocavel                     ...</td>\n",
              "      <td>Com Vitimas Feridas</td>\n",
              "      <td>Plena Noite</td>\n",
              "      <td>Decrescente</td>\n",
              "      <td>Chuva</td>\n",
              "      <td>Simples</td>\n",
              "      <td>Nao Informado</td>\n",
              "      <td>-2644675249</td>\n",
              "      <td>-4920166969</td>\n",
              "      <td>1</td>\n",
              "      <td>0</td>\n",
              "      <td>1</td>\n",
              "      <td>0</td>\n",
              "      <td>1</td>\n",
              "      <td>0</td>\n",
              "      <td>1</td>\n",
              "      <td>1</td>\n",
              "    </tr>\n",
              "  </tbody>\n",
              "</table>\n",
              "</div>"
            ],
            "text/plain": [
              "  data_inversa dia_semana   horario  uf  ...  feridos ilesos ignorados veiculos\n",
              "0   01/01/2017    domingo  00:00:00  PR  ...        1      0         1        1\n",
              "1   01/01/2017    domingo  00:01:00  SC  ...        0      1         1        1\n",
              "2   01/01/2017    domingo  00:00:00  PR  ...        2      0         1        1\n",
              "3   01/01/2017    domingo  00:00:00  GO  ...        1      0         1        1\n",
              "4   01/01/2017    domingo  00:00:00  SC  ...        1      0         1        1\n",
              "\n",
              "[5 rows x 24 columns]"
            ]
          },
          "metadata": {
            "tags": []
          },
          "execution_count": 93
        }
      ]
    },
    {
      "cell_type": "markdown",
      "metadata": {
        "id": "ruu0RU1vKMrA"
      },
      "source": [
        "# **Q1. Qualidade dos dados disponíveis**\r\n",
        "\r\n",
        "Antes de qualquer análise, é necessário verificar a qualidade dos dados disponíveis, verificar a ausência de variáveis e a distribuição dos dados.\r\n",
        "\r\n",
        "Primeiro vamos verificar o número de variáveis e a quantidade de entradas."
      ]
    },
    {
      "cell_type": "code",
      "metadata": {
        "colab": {
          "base_uri": "https://localhost:8080/",
          "height": 487
        },
        "id": "-6DH-F2fgQ-j",
        "outputId": "5cf6db29-888a-4d14-aff3-30ee3bbebc09"
      },
      "source": [
        "# Verificar o volume de dados presentes no DataFrame\r\n",
        "\r\n",
        "print('Variáveis: \\t{}\\n Entradas: \\t{}\\n'.format(df.shape[1], df.shape[0]))\r\n",
        "\r\n",
        "# Verificar tipos de dados\r\n",
        "display(df.dtypes)"
      ],
      "execution_count": null,
      "outputs": [
        {
          "output_type": "stream",
          "text": [
            "Variáveis: \t24\n",
            " Entradas: \t52250\n",
            "\n"
          ],
          "name": "stdout"
        },
        {
          "output_type": "display_data",
          "data": {
            "text/plain": [
              "data_inversa               object\n",
              "dia_semana                 object\n",
              "horario                    object\n",
              "uf                         object\n",
              "br                        float64\n",
              "municipio                  object\n",
              "causa_acidente             object\n",
              "tipo_acidente              object\n",
              "classificacao_acidente     object\n",
              "fase_dia                   object\n",
              "sentido_via                object\n",
              "condicao_metereologica     object\n",
              "tipo_pista                 object\n",
              "tracado_via                object\n",
              "latitude                    int64\n",
              "longitude                   int64\n",
              "pessoas                     int64\n",
              "mortos                      int64\n",
              "feridos_leves               int64\n",
              "feridos_graves              int64\n",
              "feridos                     int64\n",
              "ilesos                      int64\n",
              "ignorados                   int64\n",
              "veiculos                    int64\n",
              "dtype: object"
            ]
          },
          "metadata": {
            "tags": []
          }
        }
      ]
    },
    {
      "cell_type": "markdown",
      "metadata": {
        "id": "mq3jlKaUKk5A"
      },
      "source": [
        "Agora que temos a noção da quantidade de variáveis e entradas, vamos dar uma olhada em como esses dados estão dispostos."
      ]
    },
    {
      "cell_type": "code",
      "metadata": {
        "colab": {
          "base_uri": "https://localhost:8080/",
          "height": 304
        },
        "id": "o_GLSUTFgVP5",
        "outputId": "d883ee62-b628-4c8c-af64-3d68475840df"
      },
      "source": [
        "# Descrição dos dados presentes no DataFrame\r\n",
        "\r\n",
        "df.describe()"
      ],
      "execution_count": null,
      "outputs": [
        {
          "output_type": "execute_result",
          "data": {
            "text/html": [
              "<div>\n",
              "<style scoped>\n",
              "    .dataframe tbody tr th:only-of-type {\n",
              "        vertical-align: middle;\n",
              "    }\n",
              "\n",
              "    .dataframe tbody tr th {\n",
              "        vertical-align: top;\n",
              "    }\n",
              "\n",
              "    .dataframe thead th {\n",
              "        text-align: right;\n",
              "    }\n",
              "</style>\n",
              "<table border=\"1\" class=\"dataframe\">\n",
              "  <thead>\n",
              "    <tr style=\"text-align: right;\">\n",
              "      <th></th>\n",
              "      <th>br</th>\n",
              "      <th>latitude</th>\n",
              "      <th>longitude</th>\n",
              "      <th>pessoas</th>\n",
              "      <th>mortos</th>\n",
              "      <th>feridos_leves</th>\n",
              "      <th>feridos_graves</th>\n",
              "      <th>feridos</th>\n",
              "      <th>ilesos</th>\n",
              "      <th>ignorados</th>\n",
              "      <th>veiculos</th>\n",
              "    </tr>\n",
              "  </thead>\n",
              "  <tbody>\n",
              "    <tr>\n",
              "      <th>count</th>\n",
              "      <td>52169.000000</td>\n",
              "      <td>5.225000e+04</td>\n",
              "      <td>5.225000e+04</td>\n",
              "      <td>52250.000000</td>\n",
              "      <td>52250.000000</td>\n",
              "      <td>52250.000000</td>\n",
              "      <td>52250.000000</td>\n",
              "      <td>52250.000000</td>\n",
              "      <td>52250.000000</td>\n",
              "      <td>52250.0</td>\n",
              "      <td>52250.000000</td>\n",
              "    </tr>\n",
              "    <tr>\n",
              "      <th>mean</th>\n",
              "      <td>215.209492</td>\n",
              "      <td>-1.192539e+09</td>\n",
              "      <td>-2.883876e+09</td>\n",
              "      <td>2.299656</td>\n",
              "      <td>0.070048</td>\n",
              "      <td>0.732134</td>\n",
              "      <td>0.202105</td>\n",
              "      <td>0.934239</td>\n",
              "      <td>1.177895</td>\n",
              "      <td>1.0</td>\n",
              "      <td>1.627100</td>\n",
              "    </tr>\n",
              "    <tr>\n",
              "      <th>std</th>\n",
              "      <td>129.931553</td>\n",
              "      <td>1.186734e+09</td>\n",
              "      <td>2.629381e+09</td>\n",
              "      <td>1.823256</td>\n",
              "      <td>0.338862</td>\n",
              "      <td>1.085953</td>\n",
              "      <td>0.556339</td>\n",
              "      <td>1.248399</td>\n",
              "      <td>1.409805</td>\n",
              "      <td>0.0</td>\n",
              "      <td>0.751814</td>\n",
              "    </tr>\n",
              "    <tr>\n",
              "      <th>min</th>\n",
              "      <td>10.000000</td>\n",
              "      <td>-2.994231e+10</td>\n",
              "      <td>-7.734477e+10</td>\n",
              "      <td>1.000000</td>\n",
              "      <td>0.000000</td>\n",
              "      <td>0.000000</td>\n",
              "      <td>0.000000</td>\n",
              "      <td>0.000000</td>\n",
              "      <td>0.000000</td>\n",
              "      <td>1.0</td>\n",
              "      <td>1.000000</td>\n",
              "    </tr>\n",
              "    <tr>\n",
              "      <th>25%</th>\n",
              "      <td>101.000000</td>\n",
              "      <td>-2.272134e+09</td>\n",
              "      <td>-4.880924e+09</td>\n",
              "      <td>1.000000</td>\n",
              "      <td>0.000000</td>\n",
              "      <td>0.000000</td>\n",
              "      <td>0.000000</td>\n",
              "      <td>0.000000</td>\n",
              "      <td>0.000000</td>\n",
              "      <td>1.0</td>\n",
              "      <td>1.000000</td>\n",
              "    </tr>\n",
              "    <tr>\n",
              "      <th>50%</th>\n",
              "      <td>163.000000</td>\n",
              "      <td>-9.512791e+08</td>\n",
              "      <td>-4.039279e+09</td>\n",
              "      <td>2.000000</td>\n",
              "      <td>0.000000</td>\n",
              "      <td>1.000000</td>\n",
              "      <td>0.000000</td>\n",
              "      <td>1.000000</td>\n",
              "      <td>1.000000</td>\n",
              "      <td>1.0</td>\n",
              "      <td>2.000000</td>\n",
              "    </tr>\n",
              "    <tr>\n",
              "      <th>75%</th>\n",
              "      <td>343.000000</td>\n",
              "      <td>-8.498636e+06</td>\n",
              "      <td>-3.841389e+07</td>\n",
              "      <td>3.000000</td>\n",
              "      <td>0.000000</td>\n",
              "      <td>1.000000</td>\n",
              "      <td>0.000000</td>\n",
              "      <td>1.000000</td>\n",
              "      <td>2.000000</td>\n",
              "      <td>1.0</td>\n",
              "      <td>2.000000</td>\n",
              "    </tr>\n",
              "    <tr>\n",
              "      <th>max</th>\n",
              "      <td>495.000000</td>\n",
              "      <td>1.822381e+09</td>\n",
              "      <td>3.137211e+10</td>\n",
              "      <td>75.000000</td>\n",
              "      <td>21.000000</td>\n",
              "      <td>41.000000</td>\n",
              "      <td>21.000000</td>\n",
              "      <td>62.000000</td>\n",
              "      <td>64.000000</td>\n",
              "      <td>1.0</td>\n",
              "      <td>15.000000</td>\n",
              "    </tr>\n",
              "  </tbody>\n",
              "</table>\n",
              "</div>"
            ],
            "text/plain": [
              "                 br      latitude  ...  ignorados      veiculos\n",
              "count  52169.000000  5.225000e+04  ...    52250.0  52250.000000\n",
              "mean     215.209492 -1.192539e+09  ...        1.0      1.627100\n",
              "std      129.931553  1.186734e+09  ...        0.0      0.751814\n",
              "min       10.000000 -2.994231e+10  ...        1.0      1.000000\n",
              "25%      101.000000 -2.272134e+09  ...        1.0      1.000000\n",
              "50%      163.000000 -9.512791e+08  ...        1.0      2.000000\n",
              "75%      343.000000 -8.498636e+06  ...        1.0      2.000000\n",
              "max      495.000000  1.822381e+09  ...        1.0     15.000000\n",
              "\n",
              "[8 rows x 11 columns]"
            ]
          },
          "metadata": {
            "tags": []
          },
          "execution_count": 94
        }
      ]
    },
    {
      "cell_type": "markdown",
      "metadata": {
        "id": "ChK29ToTKu4J"
      },
      "source": [
        "Só com essa análise superficial, já podemos observar alguns pontos:\r\n",
        "- Há um acidente com 21 mortos, o que não é ocasional e foge muito a normalidade dos acidentes. Este acidente provavelmente se refere ao acontecido no Espírito Santo, ele pode ser conferido [nesta matéria](https://g1.globo.com/espirito-santo/noticia/acidente-com-quatro-veiculos-deixa-mortos-e-feridos-na-br-101-em-guarapari.ghtml), porém não há confirmação dessa relação.\r\n",
        "\r\n",
        "- Em mais de 75% dos casos, não houve mortes associadas."
      ]
    },
    {
      "cell_type": "code",
      "metadata": {
        "colab": {
          "base_uri": "https://localhost:8080/",
          "height": 399
        },
        "id": "5rckwFHhatOP",
        "outputId": "5eac3325-3b2b-48f6-aa09-96fed74211d1"
      },
      "source": [
        "# Plot gráfico de mortos\r\n",
        "\r\n",
        "plt.hist(df.mortos, 21, rwidth=0.5)"
      ],
      "execution_count": null,
      "outputs": [
        {
          "output_type": "execute_result",
          "data": {
            "text/plain": [
              "(array([4.9248e+04, 2.5920e+03, 2.9100e+02, 6.1000e+01, 3.2000e+01,\n",
              "        1.1000e+01, 7.0000e+00, 2.0000e+00, 3.0000e+00, 1.0000e+00,\n",
              "        1.0000e+00, 0.0000e+00, 0.0000e+00, 0.0000e+00, 0.0000e+00,\n",
              "        0.0000e+00, 0.0000e+00, 0.0000e+00, 0.0000e+00, 0.0000e+00,\n",
              "        1.0000e+00]),\n",
              " array([ 0.,  1.,  2.,  3.,  4.,  5.,  6.,  7.,  8.,  9., 10., 11., 12.,\n",
              "        13., 14., 15., 16., 17., 18., 19., 20., 21.]),\n",
              " <a list of 21 Patch objects>)"
            ]
          },
          "metadata": {
            "tags": []
          },
          "execution_count": 154
        },
        {
          "output_type": "display_data",
          "data": {
            "image/png": "[encoded data removed]",
            "text/plain": [
              "<Figure size 432x288 with 1 Axes>"
            ]
          },
          "metadata": {
            "tags": [],
            "needs_background": "light"
          }
        }
      ]
    },
    {
      "cell_type": "markdown",
      "metadata": {
        "id": "DEax34ynbvLk"
      },
      "source": [
        "- Em mais de 75% dos casos não há mais que 1 ferido."
      ]
    },
    {
      "cell_type": "code",
      "metadata": {
        "colab": {
          "base_uri": "https://localhost:8080/",
          "height": 584
        },
        "id": "D3w6qU6ubohx",
        "outputId": "563fb708-1ba3-4bec-9c6b-8e7aa9f1b15b"
      },
      "source": [
        "# Plot gráfico de feridos\r\n",
        "\r\n",
        "plt.hist(df.feridos, 62, rwidth=0.5)"
      ],
      "execution_count": null,
      "outputs": [
        {
          "output_type": "execute_result",
          "data": {
            "text/plain": [
              "(array([2.0036e+04, 2.2420e+04, 6.5810e+03, 1.7510e+03, 7.6600e+02,\n",
              "        3.4400e+02, 1.4400e+02, 6.6000e+01, 4.2000e+01, 2.0000e+01,\n",
              "        1.1000e+01, 1.2000e+01, 7.0000e+00, 7.0000e+00, 6.0000e+00,\n",
              "        9.0000e+00, 4.0000e+00, 3.0000e+00, 3.0000e+00, 0.0000e+00,\n",
              "        1.0000e+00, 1.0000e+00, 1.0000e+00, 0.0000e+00, 1.0000e+00,\n",
              "        2.0000e+00, 0.0000e+00, 0.0000e+00, 1.0000e+00, 1.0000e+00,\n",
              "        2.0000e+00, 3.0000e+00, 0.0000e+00, 1.0000e+00, 1.0000e+00,\n",
              "        1.0000e+00, 0.0000e+00, 1.0000e+00, 0.0000e+00, 0.0000e+00,\n",
              "        0.0000e+00, 0.0000e+00, 0.0000e+00, 0.0000e+00, 0.0000e+00,\n",
              "        0.0000e+00, 0.0000e+00, 0.0000e+00, 0.0000e+00, 0.0000e+00,\n",
              "        0.0000e+00, 0.0000e+00, 0.0000e+00, 0.0000e+00, 0.0000e+00,\n",
              "        0.0000e+00, 0.0000e+00, 0.0000e+00, 0.0000e+00, 0.0000e+00,\n",
              "        0.0000e+00, 1.0000e+00]),\n",
              " array([ 0.,  1.,  2.,  3.,  4.,  5.,  6.,  7.,  8.,  9., 10., 11., 12.,\n",
              "        13., 14., 15., 16., 17., 18., 19., 20., 21., 22., 23., 24., 25.,\n",
              "        26., 27., 28., 29., 30., 31., 32., 33., 34., 35., 36., 37., 38.,\n",
              "        39., 40., 41., 42., 43., 44., 45., 46., 47., 48., 49., 50., 51.,\n",
              "        52., 53., 54., 55., 56., 57., 58., 59., 60., 61., 62.]),\n",
              " <a list of 62 Patch objects>)"
            ]
          },
          "metadata": {
            "tags": []
          },
          "execution_count": 159
        },
        {
          "output_type": "display_data",
          "data": {
            "image/png": "[encoded data removed]",
            "text/plain": [
              "<Figure size 432x288 with 1 Axes>"
            ]
          },
          "metadata": {
            "tags": [],
            "needs_background": "light"
          }
        }
      ]
    },
    {
      "cell_type": "markdown",
      "metadata": {
        "id": "exZum5vaMlo2"
      },
      "source": [
        "Vamos observar também se há ausência de dados:"
      ]
    },
    {
      "cell_type": "code",
      "metadata": {
        "colab": {
          "base_uri": "https://localhost:8080/"
        },
        "id": "rbWdEJtpfa4n",
        "outputId": "2edbc8c6-31de-4148-a1ee-127f970d52e8"
      },
      "source": [
        "# Verificar a ausência de dados no DataFrame\r\n",
        "\r\n",
        "(df.isnull().sum() / df.shape[0]).sort_values(ascending=False)"
      ],
      "execution_count": null,
      "outputs": [
        {
          "output_type": "execute_result",
          "data": {
            "text/plain": [
              "br                        0.00155\n",
              "km                        0.00155\n",
              "veiculos                  0.00000\n",
              "sentido_via               0.00000\n",
              "data_inversa              0.00000\n",
              "dia_semana                0.00000\n",
              "horario                   0.00000\n",
              "uf                        0.00000\n",
              "municipio                 0.00000\n",
              "causa_acidente            0.00000\n",
              "tipo_acidente             0.00000\n",
              "classificacao_acidente    0.00000\n",
              "fase_dia                  0.00000\n",
              "condicao_metereologica    0.00000\n",
              "ignorados                 0.00000\n",
              "tipo_pista                0.00000\n",
              "tracado_via               0.00000\n",
              "uso_solo                  0.00000\n",
              "latitude                  0.00000\n",
              "longitude                 0.00000\n",
              "pessoas                   0.00000\n",
              "mortos                    0.00000\n",
              "feridos_leves             0.00000\n",
              "feridos_graves            0.00000\n",
              "feridos                   0.00000\n",
              "ilesos                    0.00000\n",
              "id                        0.00000\n",
              "dtype: float64"
            ]
          },
          "metadata": {
            "tags": []
          },
          "execution_count": 36
        }
      ]
    },
    {
      "cell_type": "markdown",
      "metadata": {
        "id": "0yd8BpnZMpz4"
      },
      "source": [
        "Como há menos de 1% de ausência de dados, podemos ignorar a falta desses dados visto que eles não irão impactar a análise."
      ]
    },
    {
      "cell_type": "markdown",
      "metadata": {
        "id": "o0RYjUqpNGG7"
      },
      "source": [
        "# **Q2. Gráfico de acidentes nas rodovias brasileiras**\r\n",
        "\r\n",
        "No nosso DataFrame, há a presença da latitude e longitude "
      ]
    },
    {
      "cell_type": "code",
      "metadata": {
        "colab": {
          "base_uri": "https://localhost:8080/",
          "height": 615
        },
        "id": "PUuRQuwybmpG",
        "outputId": "7a8b35d1-c06d-47ce-a394-aa5034493725"
      },
      "source": [
        "df.plot(kind = 'scatter', x='longitude', y='latitude', cmap=plt.get_cmap('jet'), s = 8, alpha = 0.4, figsize = (15, 10), c =df['feridos'])"
      ],
      "execution_count": null,
      "outputs": [
        {
          "output_type": "execute_result",
          "data": {
            "text/plain": [
              "<matplotlib.axes._subplots.AxesSubplot at 0x7f29f8ff0160>"
            ]
          },
          "metadata": {
            "tags": []
          },
          "execution_count": 109
        },
        {
          "output_type": "display_data",
          "data": {
            "image/png": "[encoded data removed]",
            "text/plain": [
              "<Figure size 1080x720 with 2 Axes>"
            ]
          },
          "metadata": {
            "tags": [],
            "needs_background": "light"
          }
        }
      ]
    },
    {
      "cell_type": "markdown",
      "metadata": {
        "id": "QWfplvO9PRNq"
      },
      "source": [
        "# **Q3. Em quais rodovias acontecem o maior número de acidentes?**\r\n",
        "\r\n",
        "Para descobrir as rodovias com maior número de acidentes, simplesmente precisamos contar a ocorrência de uma mesma rodovia nos dados."
      ]
    },
    {
      "cell_type": "code",
      "metadata": {
        "colab": {
          "base_uri": "https://localhost:8080/"
        },
        "id": "3QBB6TAdl2cl",
        "outputId": "c0bbadfb-6e30-4476-b4c6-6fccbf778a9d"
      },
      "source": [
        "df.br.value_counts()"
      ],
      "execution_count": null,
      "outputs": [
        {
          "output_type": "execute_result",
          "data": {
            "text/plain": [
              "101.0    8048\n",
              "116.0    7736\n",
              "381.0    2840\n",
              "40.0     2409\n",
              "153.0    2198\n",
              "         ... \n",
              "473.0       1\n",
              "433.0       1\n",
              "482.0       1\n",
              "434.0       1\n",
              "403.0       1\n",
              "Name: br, Length: 113, dtype: int64"
            ]
          },
          "metadata": {
            "tags": []
          },
          "execution_count": 95
        }
      ]
    },
    {
      "cell_type": "markdown",
      "metadata": {
        "id": "RBuCgZfZPeU6"
      },
      "source": [
        "Podemos ver que a BR-101 que corta o litoral brasileiro lidera o número de acidentes em rodovias federais, seguida pela BR-116 que também cerca o litoral brasileiro. Essas duas rodovias lideram o ranking de acidentes com certa vantagem, com isso já podemos observar que **o litoral brasileiro é o local com maior incidência de acidentes**.\r\n",
        "\r\n",
        "A BR-381 liga o norte do Espírito Santo a Belo Horizonte, sendo a primeira que não corta o litoral.\r\n",
        "\r\n",
        "Tendo conhecimento de que as rodovias do litoral presenciam maior número de acidentes, iremos análisar mais duas questões:\r\n",
        "\r\n",
        "- O que ocasiona esses acidentes?\r\n",
        "- Quais os tipos de acidentes mais comuns?"
      ]
    },
    {
      "cell_type": "markdown",
      "metadata": {
        "id": "Cq65eqg9QWTj"
      },
      "source": [
        "# **Q4. O que ocasiona esses acidentes?**\r\n",
        "\r\n",
        "Como nossos dados nos entregam a causa dos acidentes junto ao seu registo, iremos verificar as causas de acidentes mais comuns nas rodovias que presenciam mais acidentes no Brasil."
      ]
    },
    {
      "cell_type": "code",
      "metadata": {
        "colab": {
          "base_uri": "https://localhost:8080/"
        },
        "id": "zUT_4VT_njw7",
        "outputId": "e512b76f-7e1d-4c53-cc3c-0e496929288f"
      },
      "source": [
        "# Contagem das causas de acidentes nas BR's 101 e 116\r\n",
        "\r\n",
        "df_clean = df.loc[(df.br == 101.0) | (df.br == 116.0)]\r\n",
        "\r\n",
        "df_clean.causa_acidente.value_counts()\r\n"
      ],
      "execution_count": null,
      "outputs": [
        {
          "output_type": "execute_result",
          "data": {
            "text/plain": [
              "Falta de Atencao do Condutor                                                                                          6242\n",
              "Velocidade Incompativel                                                                                               1693\n",
              "Não Guardar Distancia de Seguranca                                                                                    1320\n",
              "Ingestao de Alcool                                                                                                    1011\n",
              "Desobediencia a Sinalizacao                                                                                            888\n",
              "Defeito Mecanico no Veiculo                                                                                            831\n",
              "Pista Escorregadia                                                                                                     780\n",
              "Condutor Dormindo                                                                                                      619\n",
              "Falta de Atencao do Pedestre                                                                                           504\n",
              "Animais na Pista                                                                                                       373\n",
              "Ultrapassagem Indevida                                                                                                 309\n",
              "Avaria no Pneu                                                                                                         271\n",
              "Defeito na Via                                                                                                         210\n",
              "Mal Subito                                                                                                             162\n",
              "Obstaculo Estatico sobre a via                                                                                         155\n",
              "Restricao de Visibilidade                                                                                              151\n",
              "Carga Mal Acondicionada                                                                                                 99\n",
              "Fenomenos da Natureza                                                                                                   64\n",
              "Sinalizacao da Via insuficiente ou inadequada                                                                           59\n",
              "Deficiï¿½ncia ou nï¿½o Acionamento do Sistema de Iluminaï¿½ï¿½o/Sinalizaï¿½ï¿½o do Veï¿½culo                            31\n",
              "Ingestï¿½o de Substï¿½ncias Psicoativas                                                                                 12\n",
              "Name: causa_acidente, dtype: int64"
            ]
          },
          "metadata": {
            "tags": []
          },
          "execution_count": 141
        }
      ]
    },
    {
      "cell_type": "markdown",
      "metadata": {
        "id": "wHIpLJvxXid5"
      },
      "source": [
        "Como visto a cima, a falta de atenção do condutor é a maior causa de acidentes nas rodovias federais, seguida por velocidade incopatível e por não guardar a distância segura do veículo a frente. Logo, podemos afirmar que as 3 maiores causas de acidente são por erro humano.\r\n",
        "\r\n",
        "Podemos observar também que infrações de transito e problemas mecânicos também são causadores de acidentes. O acaso também pode ser observado em casos de mal subito e fenomenos da natureza."
      ]
    },
    {
      "cell_type": "markdown",
      "metadata": {
        "id": "v62_pdU0YRoL"
      },
      "source": [
        "# **Q5. Quais os acidentes mais comuns?**\r\n",
        "\r\n",
        "Agora que descobrimos as maiores causas de acidentes, vamos observar também como esses acidentes acontecem, ou seja, o que de fato acontece no momento do acidente."
      ]
    },
    {
      "cell_type": "code",
      "metadata": {
        "colab": {
          "base_uri": "https://localhost:8080/"
        },
        "id": "I62q_SECnuxC",
        "outputId": "86c62bff-af9b-4263-e7dd-6ab667e6fbda"
      },
      "source": [
        "# Contagem dos tipos de acidentes nas BR's 101 e 116\r\n",
        "\r\n",
        "df_clean.tipo_acidente.value_counts()"
      ],
      "execution_count": null,
      "outputs": [
        {
          "output_type": "execute_result",
          "data": {
            "text/plain": [
              "Colisao Traseira                                                                                                                                                                                            3207\n",
              "Saida de leito carrocavel                                                                                                                                                                                   2115\n",
              "Colisao Lateral                                                                                                                                                                                             2095\n",
              "Colisao com objeto estatico                                                                                                                                                                                 1797\n",
              "Colisao Transversal                                                                                                                                                                                         1621\n",
              "Tombamento                                                                                                                                                                                                  1028\n",
              "Capotamento                                                                                                                                                                                                  915\n",
              "Atropelamento de Pedestre                                                                                                                                                                                    738\n",
              "Queda de Ocupante de Veiculo                                                                                                                                                                                 676\n",
              "Colisao Frontal                                                                                                                                                                                              614\n",
              "Atropelamento de Animal                                                                                                                                                                                      300\n",
              "Engavetamento                                                                                                                                                                                                237\n",
              "Incendio                                                                                                                                                                                                     181\n",
              "Colisao com Objeto em Movimento                                                                                                                                                                              137\n",
              "Derramamento de carga                                                                                                                                                                                         69\n",
              "Danos eventuais                                                                                                                                                                                               54\n",
              "Name: tipo_acidente, dtype: int64"
            ]
          },
          "metadata": {
            "tags": []
          },
          "execution_count": 145
        }
      ]
    },
    {
      "cell_type": "markdown",
      "metadata": {
        "id": "-SOzOjDbYlDP"
      },
      "source": [
        "Podemos observar que a colisão traseira é o acidente mais comum, seguido pela saída de leito carroçável, apesar do nome estranho, o leito carroçável é a área em que a circulação de alguma coisa, seja ela de carros, motos, bicicletas ou pessoas. A colisão lateral, com objeto estático e transversal apoia a suposição que a colisão direta representa a maior parte dos acidentes.\r\n",
        "\r\n",
        "Devemos ressaltar aqui também os acidentes em que há a queda de algum ocupante do veículo e o derramamento de carga."
      ]
    }
  ]
}